{
 "cells": [
  {
   "cell_type": "code",
   "execution_count": 5,
   "metadata": {},
   "outputs": [
    {
     "name": "stdout",
     "output_type": "stream",
     "text": [
      "Python programming\n"
     ]
    }
   ],
   "source": [
    "# Methods which returns String itself\n",
    "# 1.Capitalize():to capitalize the string \n",
    "st = 'pYthon programmIng'\n",
    "out = st.capitalize()\n",
    "print(out)"
   ]
  },
  {
   "cell_type": "code",
   "execution_count": 14,
   "metadata": {},
   "outputs": [
    {
     "name": "stdout",
     "output_type": "stream",
     "text": [
      "**hello***\n"
     ]
    }
   ],
   "source": [
    "# Center(width, fillchar)\n",
    "st = 'hello'\n",
    "out = st.center(10, '*')\n",
    "print(out)"
   ]
  },
  {
   "cell_type": "code",
   "execution_count": 25,
   "metadata": {},
   "outputs": [
    {
     "name": "stdout",
     "output_type": "stream",
     "text": [
      "*******565\n"
     ]
    }
   ],
   "source": [
    "# ljust()/rjust()\n",
    "st = '565'\n",
    "out = st.rjust(10, '*')\n",
    "print(out)"
   ]
  },
  {
   "cell_type": "code",
   "execution_count": 34,
   "metadata": {},
   "outputs": [
    {
     "name": "stdout",
     "output_type": "stream",
     "text": [
      "-00000032382824\n"
     ]
    }
   ],
   "source": [
    "# zfill()\n",
    "st = '-32382824'\n",
    "out = st.zfill(15)\n",
    "print(out)"
   ]
  },
  {
   "cell_type": "code",
   "execution_count": 36,
   "metadata": {},
   "outputs": [
    {
     "name": "stdout",
     "output_type": "stream",
     "text": [
      "HELLO 2 WORLD\n"
     ]
    }
   ],
   "source": [
    "# upper/lower()/casefold()\n",
    "st = 'hello 2 world'\n",
    "out = st.upper()\n",
    "print(out)"
   ]
  },
  {
   "cell_type": "code",
   "execution_count": 38,
   "metadata": {},
   "outputs": [
    {
     "name": "stdout",
     "output_type": "stream",
     "text": [
      "hello 2 world\n"
     ]
    }
   ],
   "source": [
    "# upper/lower()/casefold()\n",
    "st = 'Hello 2 World'\n",
    "# out = st.lower()\n",
    "out = st.casefold()\n",
    "print(out)"
   ]
  },
  {
   "cell_type": "code",
   "execution_count": 41,
   "metadata": {},
   "outputs": [
    {
     "name": "stdout",
     "output_type": "stream",
     "text": [
      "Successfully login\n"
     ]
    }
   ],
   "source": [
    "# authentic use \n",
    "user_db = 'mayank'\n",
    "user_data = input('Enter the username')\n",
    "if user_db == user_data.casefold():\n",
    "    print('Successfully login')\n",
    "else:\n",
    "    print('Not Valid Entry')"
   ]
  },
  {
   "cell_type": "code",
   "execution_count": 53,
   "metadata": {},
   "outputs": [
    {
     "name": "stdout",
     "output_type": "stream",
     "text": [
      "'\\n\\thello    world'\n"
     ]
    }
   ],
   "source": [
    "# strip()/lstrip()/rstrip()\n",
    "st = '\\n\\thello    world         '\n",
    "# out = st.strip() # trim from both side \n",
    "out = st.lstrip() # remove whitespace from left side\n",
    "out = st.rstrip() # remove whitespace from right side\n",
    "print(repr(out))"
   ]
  },
  {
   "cell_type": "code",
   "execution_count": 61,
   "metadata": {},
   "outputs": [
    {
     "name": "stdout",
     "output_type": "stream",
     "text": [
      "['hello python programminggg']\n"
     ]
    }
   ],
   "source": [
    "# split(): split the string with pattern\n",
    "st = 'hello python programminggg'\n",
    "out = st.split('gggg')\n",
    "print(out)\n",
    "\n"
   ]
  },
  {
   "cell_type": "code",
   "execution_count": 66,
   "metadata": {},
   "outputs": [
    {
     "name": "stdout",
     "output_type": "stream",
     "text": [
      "['12', '45', '129', '9']\n"
     ]
    }
   ],
   "source": [
    "# Split in user data \n",
    "data = '12          45  129\\n\\t9'\n",
    "data2 = data.split()  # default split pattern is whitespace\n",
    "print(data2)"
   ]
  },
  {
   "cell_type": "code",
   "execution_count": null,
   "metadata": {},
   "outputs": [],
   "source": [
    "overs = 20\n",
    "runs = (overs - 1)* 33 + 36\n",
    "print(runs)\n"
   ]
  },
  {
   "cell_type": "code",
   "execution_count": 5,
   "metadata": {},
   "outputs": [
    {
     "name": "stdout",
     "output_type": "stream",
     "text": [
      "18\n"
     ]
    }
   ],
   "source": [
    "# \n",
    "st = 'hello programming o'\n",
    "out = st.rfind('o')\n",
    "print(out)"
   ]
  },
  {
   "cell_type": "code",
   "execution_count": 27,
   "metadata": {},
   "outputs": [
    {
     "name": "stdout",
     "output_type": "stream",
     "text": [
      "******2360\n"
     ]
    }
   ],
   "source": [
    "# Methods in string which returns string \n",
    "# 1. center()/ljust()/rjust()/zfill()\n",
    "st = '2360'\n",
    "out = st.rjust(10, '*')\n",
    "print(out)"
   ]
  },
  {
   "cell_type": "code",
   "execution_count": 34,
   "metadata": {},
   "outputs": [
    {
     "name": "stdout",
     "output_type": "stream",
     "text": [
      "-0000000000193849839\n"
     ]
    }
   ],
   "source": [
    "# zfill\n",
    "st = '-193849839'\n",
    "out = st.zfill(20)\n",
    "print(out)"
   ]
  },
  {
   "cell_type": "code",
   "execution_count": 37,
   "metadata": {},
   "outputs": [
    {
     "name": "stdout",
     "output_type": "stream",
     "text": [
      "Hello python programming\n"
     ]
    }
   ],
   "source": [
    "# capitalize()/title()/upper()/lower()/casefold()/..etc\n",
    "st = 'hello pYthon PrOgramming'\n",
    "out = st.capitalize()\n",
    "print(out)\n"
   ]
  },
  {
   "cell_type": "code",
   "execution_count": 47,
   "metadata": {},
   "outputs": [
    {
     "name": "stdout",
     "output_type": "stream",
     "text": [
      "hello 5g programming # %@@#@#\n"
     ]
    }
   ],
   "source": [
    "st = 'Hello 5G Programming # %@@#@#'\n",
    "out = st.casefold()\n",
    "print(out)"
   ]
  },
  {
   "cell_type": "code",
   "execution_count": 50,
   "metadata": {},
   "outputs": [
    {
     "name": "stdout",
     "output_type": "stream",
     "text": [
      "Not valid user\n"
     ]
    }
   ],
   "source": [
    "user_db = 'mayank'\n",
    "user_data = input('Enter the user-name')\n",
    "if user_db == user_data.casefold():\n",
    "    print('Successfully login')\n",
    "else:\n",
    "    print('Not valid user')"
   ]
  },
  {
   "cell_type": "code",
   "execution_count": 58,
   "metadata": {},
   "outputs": [
    {
     "name": "stdout",
     "output_type": "stream",
     "text": [
      "'\\t\\n\\rhello     world'\n"
     ]
    }
   ],
   "source": [
    "# Strip()/lstrip()/rstrip()\n",
    "st = '\\t\\n\\rhello     world   \\n'\n",
    "out = st.rstrip()\n",
    "print(repr(out))"
   ]
  },
  {
   "cell_type": "code",
   "execution_count": 77,
   "metadata": {},
   "outputs": [
    {
     "name": "stdout",
     "output_type": "stream",
     "text": [
      "['hello', 'python', 'programming']\n"
     ]
    }
   ],
   "source": [
    "# split(): \n",
    "st = 'hello\\npython\\t\\r\\n  programming'\n",
    "out = st.split()\n",
    "print(out)"
   ]
  },
  {
   "cell_type": "code",
   "execution_count": 91,
   "metadata": {},
   "outputs": [
    {
     "name": "stdout",
     "output_type": "stream",
     "text": [
      "a=h\n",
      "b=[]\n",
      "b=e\n"
     ]
    }
   ],
   "source": [
    "a, *b, c = 'he'\n",
    "\n",
    "print(f'a={a}')\n",
    "print(f'b={b}')\n",
    "print(f'b={c}')"
   ]
  },
  {
   "cell_type": "code",
   "execution_count": 92,
   "metadata": {},
   "outputs": [
    {
     "name": "stdout",
     "output_type": "stream",
     "text": [
      "68\n"
     ]
    }
   ],
   "source": [
    "a, b = input().split()  # ['12',  '24']\n",
    "a = int(a)\n",
    "b = int(b)\n",
    "print(a+b)"
   ]
  }
 ],
 "metadata": {
  "kernelspec": {
   "display_name": "Python 3",
   "language": "python",
   "name": "python3"
  },
  "language_info": {
   "codemirror_mode": {
    "name": "ipython",
    "version": 3
   },
   "file_extension": ".py",
   "mimetype": "text/x-python",
   "name": "python",
   "nbconvert_exporter": "python",
   "pygments_lexer": "ipython3",
   "version": "3.12.1"
  }
 },
 "nbformat": 4,
 "nbformat_minor": 2
}
