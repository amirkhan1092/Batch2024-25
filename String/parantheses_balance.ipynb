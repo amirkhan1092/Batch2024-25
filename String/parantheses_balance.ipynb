{
 "cells": [
  {
   "cell_type": "code",
   "execution_count": 37,
   "metadata": {},
   "outputs": [
    {
     "name": "stdout",
     "output_type": "stream",
     "text": [
      "False\n"
     ]
    }
   ],
   "source": [
    "# balance parantheses without '*'\n",
    "\n",
    "st = ')()'\n",
    "count = 0\n",
    "for i in st:\n",
    "    if i == '(':\n",
    "        count += 1\n",
    "    elif i == ')':\n",
    "        count -= 1\n",
    "        if count < 0:\n",
    "            break\n",
    "            \n",
    "if count == 0:\n",
    "    print(True)\n",
    "else:\n",
    "    print(False)"
   ]
  },
  {
   "cell_type": "code",
   "execution_count": 42,
   "metadata": {},
   "outputs": [
    {
     "name": "stdout",
     "output_type": "stream",
     "text": [
      "True\n"
     ]
    }
   ],
   "source": [
    "# balance parantheses with '*'\n",
    "\n",
    "st = '*)()'\n",
    "count = 0\n",
    "astrk = 0\n",
    "for i in st:\n",
    "    if i == '(':\n",
    "        count += 1\n",
    "        astrk += 1\n",
    "    elif i == ')':\n",
    "        count -= 1\n",
    "        astrk -= 1     \n",
    "    else:\n",
    "        count -= 1\n",
    "        astrk += 1 \n",
    "\n",
    "    if count < 0:\n",
    "        count = 0\n",
    "    if astrk < 0:\n",
    "        print(False)\n",
    "        break\n",
    "else:\n",
    "    if count == 0:\n",
    "        print(True)\n"
   ]
  },
  {
   "cell_type": "code",
   "execution_count": 29,
   "metadata": {},
   "outputs": [
    {
     "name": "stdout",
     "output_type": "stream",
     "text": [
      "GH\n"
     ]
    }
   ],
   "source": [
    "name = \"Grace Hopper\"\n",
    "initials = name[0] + name[name.index(\" \") + 1]\n",
    "print(initials)\n",
    "\n"
   ]
  },
  {
   "cell_type": "code",
   "execution_count": 20,
   "metadata": {},
   "outputs": [
    {
     "name": "stdout",
     "output_type": "stream",
     "text": [
      "31\n"
     ]
    }
   ],
   "source": []
  },
  {
   "cell_type": "code",
   "execution_count": null,
   "metadata": {},
   "outputs": [],
   "source": [
    "\n"
   ]
  },
  {
   "cell_type": "code",
   "execution_count": null,
   "metadata": {},
   "outputs": [],
   "source": [
    "\n"
   ]
  }
 ],
 "metadata": {
  "kernelspec": {
   "display_name": "Python 3",
   "language": "python",
   "name": "python3"
  },
  "language_info": {
   "codemirror_mode": {
    "name": "ipython",
    "version": 3
   },
   "file_extension": ".py",
   "mimetype": "text/x-python",
   "name": "python",
   "nbconvert_exporter": "python",
   "pygments_lexer": "ipython3",
   "version": "3.12.1"
  }
 },
 "nbformat": 4,
 "nbformat_minor": 2
}
