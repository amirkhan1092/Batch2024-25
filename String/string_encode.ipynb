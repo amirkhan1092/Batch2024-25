{
 "cells": [
  {
   "cell_type": "code",
   "execution_count": 8,
   "metadata": {},
   "outputs": [
    {
     "name": "stdout",
     "output_type": "stream",
     "text": [
      "c2889d8f\n"
     ]
    }
   ],
   "source": [
    "import base64\n",
    "# st =  b'3q2+7w=='\n",
    "out = base64.b64decode('woidjw==').hex()\n",
    "print(out)"
   ]
  },
  {
   "cell_type": "code",
   "execution_count": 13,
   "metadata": {},
   "outputs": [
    {
     "name": "stdout",
     "output_type": "stream",
     "text": [
      "r\n"
     ]
    }
   ],
   "source": [
    "st = 'rtacfd'\n",
    "w = 1\n",
    "re = ''\n",
    "while w <= len(st):\n",
    "    for i in range(len(st)):\n",
    "        tmp = st[i:i+w]\n",
    "        if tmp == tmp[::-1] and len(re) < len(tmp):\n",
    "            re = tmp\n",
    "    w += 1\n",
    "print(re)\n"
   ]
  }
 ],
 "metadata": {
  "kernelspec": {
   "display_name": "Python 3",
   "language": "python",
   "name": "python3"
  },
  "language_info": {
   "codemirror_mode": {
    "name": "ipython",
    "version": 3
   },
   "file_extension": ".py",
   "mimetype": "text/x-python",
   "name": "python",
   "nbconvert_exporter": "python",
   "pygments_lexer": "ipython3",
   "version": "3.12.1"
  }
 },
 "nbformat": 4,
 "nbformat_minor": 2
}
