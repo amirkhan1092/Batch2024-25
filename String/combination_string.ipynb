{
 "cells": [
  {
   "cell_type": "code",
   "execution_count": 4,
   "metadata": {},
   "outputs": [
    {
     "name": "stdout",
     "output_type": "stream",
     "text": [
      "['0000', '0001', '0010', '0011', '0100', '0101', '0110', '0111', '1000', '1001', '1010', '1011', '1100', '1101', '1110', '1111']\n"
     ]
    }
   ],
   "source": [
    "\n",
    "n = 4\n",
    "lst = []\n",
    "\n",
    "for i in range(2 ** n):\n",
    "    comb = ''\n",
    "    for j in range(n):\n",
    "        if i & (2 ** j):\n",
    "            comb += '1'\n",
    "        else:\n",
    "            comb += '0'\n",
    "    lst.append(comb[::-1])\n",
    "print(lst)\n"
   ]
  }
 ],
 "metadata": {
  "kernelspec": {
   "display_name": "Python 3",
   "language": "python",
   "name": "python3"
  },
  "language_info": {
   "codemirror_mode": {
    "name": "ipython",
    "version": 3
   },
   "file_extension": ".py",
   "mimetype": "text/x-python",
   "name": "python",
   "nbconvert_exporter": "python",
   "pygments_lexer": "ipython3",
   "version": "3.12.1"
  }
 },
 "nbformat": 4,
 "nbformat_minor": 2
}
