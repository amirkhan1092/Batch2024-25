{
 "cells": [
  {
   "cell_type": "markdown",
   "metadata": {},
   "source": [
    "**Problem**:  \n",
    "Write a Python program to reverse an integer without converting it to a string. The program should handle positive and negative integers.\n",
    "\n",
    "**Example**:\n",
    "```python\n",
    "Input: 123\n",
    "Output: 321\n",
    "\n",
    "Input: -456\n",
    "Output: -654\n",
    "```"
   ]
  },
  {
   "cell_type": "code",
   "execution_count": 4,
   "metadata": {},
   "outputs": [
    {
     "name": "stdout",
     "output_type": "stream",
     "text": [
      "-543\n"
     ]
    }
   ],
   "source": [
    "num = int(input())\n",
    "rev = 0\n",
    "flag = 0\n",
    "if num < 0:\n",
    "    flag = 1\n",
    "    num = abs(num)\n",
    "while num:\n",
    "    d = num % 10\n",
    "    rev = rev * 10 + d\n",
    "    num = num // 10\n",
    "if flag == 0:\n",
    "    print(rev)\n",
    "else:\n",
    "    print(-rev)"
   ]
  },
  {
   "cell_type": "code",
   "execution_count": 7,
   "metadata": {},
   "outputs": [
    {
     "name": "stdout",
     "output_type": "stream",
     "text": [
      "-321\n"
     ]
    }
   ],
   "source": [
    "num = -123\n",
    "rev = 0\n",
    "flag = 0\n",
    "if num < 0:\n",
    "    flag = 1\n",
    "    num = abs(num)\n",
    "while num:\n",
    "    d = num % 10\n",
    "    rev = rev * 10 + d\n",
    "    num = num // 10\n",
    "\n",
    "if flag==0:\n",
    "    print(rev)\n",
    "else:\n",
    "    print(-rev)"
   ]
  },
  {
   "cell_type": "markdown",
   "metadata": {},
   "source": [
    "**Problem**:  \n",
    "Write a Python function to subtract two integers without using the subtraction operator.\n",
    "\n",
    "**Example**:\n",
    "```python\n",
    "Input: 10, 3\n",
    "Output: 7\n",
    "\n",
    "Input: 5, 12\n",
    "Output: -7\n",
    "```"
   ]
  },
  {
   "cell_type": "code",
   "execution_count": 9,
   "metadata": {},
   "outputs": [
    {
     "name": "stdout",
     "output_type": "stream",
     "text": [
      "The Subtraction of num1 10 and 5 is 5 without using subtract symbol(-)\n"
     ]
    }
   ],
   "source": [
    "# num1, num2 = map(int, input().split(','))  # based on, (comma separated)\n",
    "num1, num2 = 10, 5\n",
    "# without using - operator\n",
    "# out = num1 + (-num2)\n",
    "out = num1 + (~num2 +1)\n",
    "print(f'The Subtraction of num1 {num1} and {num2} is {out} without using subtract symbol(-)')\n",
    "# print(out)"
   ]
  },
  {
   "cell_type": "code",
   "execution_count": 15,
   "metadata": {},
   "outputs": [
    {
     "name": "stdout",
     "output_type": "stream",
     "text": [
      "8\n"
     ]
    }
   ],
   "source": [
    "a = 10\n",
    "b = 2\n",
    "out = a + (~b+1)\n",
    "print(out)"
   ]
  },
  {
   "cell_type": "code",
   "execution_count": 13,
   "metadata": {},
   "outputs": [
    {
     "name": "stdout",
     "output_type": "stream",
     "text": [
      "9\n"
     ]
    }
   ],
   "source": [
    "a = -10\n",
    "out = ~a\n",
    "print(out)"
   ]
  },
  {
   "cell_type": "code",
   "execution_count": 13,
   "metadata": {},
   "outputs": [
    {
     "name": "stdout",
     "output_type": "stream",
     "text": [
      "The Subtraction of num1 10 and 5 is 5 without using subtract symbol(-)\n"
     ]
    }
   ],
   "source": [
    "# num1, num2 = map(int, input().split(','))  # based on, (comma separated)\n",
    "num1, num2 = 10, 5\n",
    "# out = num1 - num2  # - not allowed \n",
    "a, b = num1, num2 \n",
    "while num2 != 0:\n",
    "        borrow = (~num1 & num2) << 1\n",
    "        num1 = num1 ^ num2\n",
    "        num2 = borrow \n",
    "out = num1\n",
    "print(f'The Subtraction of num1 {a} and {b} is {out} without using arithmatic operators')\n",
    "# print(out)\n"
   ]
  },
  {
   "cell_type": "markdown",
   "metadata": {},
   "source": [
    "**Problem**:  \n",
    "Write a Python program to print numbers from 1 to 100 without using any numeric literals directly in the code.\n",
    "\n",
    "**Example**:\n",
    "```python\n",
    "Output: \n",
    "1\n",
    "2\n",
    "3\n",
    "...\n",
    "100\n",
    "```"
   ]
  },
  {
   "cell_type": "code",
   "execution_count": 2,
   "metadata": {},
   "outputs": [
    {
     "name": "stdout",
     "output_type": "stream",
     "text": [
      "1\n",
      "2\n",
      "3\n",
      "4\n",
      "5\n",
      "6\n",
      "7\n",
      "8\n",
      "9\n",
      "10\n",
      "11\n",
      "12\n",
      "13\n",
      "14\n",
      "15\n",
      "16\n",
      "17\n",
      "18\n",
      "19\n",
      "20\n",
      "21\n",
      "22\n",
      "23\n",
      "24\n"
     ]
    }
   ],
   "source": [
    "# for i in range(1, 101): # not allowed using integer 1 and 100 directly in code\n",
    "#     print(i)  # not allowed \n",
    "\n",
    "for i in range(ord('b'), ord('z')):  # do it for upto 100\n",
    "    print(i-ord('a'))"
   ]
  },
  {
   "cell_type": "markdown",
   "metadata": {},
   "source": [
    "**Problem**:  \n",
    "Write a Python function to determine if a number is positive, negative, or zero without using comparison operators.\n",
    "\n",
    "**Example**:\n",
    "```python\n",
    "Input: 5\n",
    "Output: Positive\n",
    "\n",
    "Input: -3\n",
    "Output: Negative\n",
    "\n",
    "Input: 0\n",
    "Output: Zero\n",
    "```"
   ]
  },
  {
   "cell_type": "code",
   "execution_count": null,
   "metadata": {},
   "outputs": [],
   "source": [
    "num = int(input())\n",
    "if (num >> 31) & 1:\n",
    "    print('Negative')\n",
    "elif not num:\n",
    "    print('Number is Zero')\n",
    "else:\n",
    "    print('Positive')\n"
   ]
  },
  {
   "cell_type": "markdown",
   "metadata": {},
   "source": [
    "**Problem**:  \n",
    "Write a Python program to print \"Thalaivaa\" without directly including any vowel characters in the code.\n",
    "\n",
    "**Example**:\n",
    "```python\n",
    "Output:\n",
    "Thalaivaa\n",
    "```"
   ]
  },
  {
   "cell_type": "code",
   "execution_count": 8,
   "metadata": {},
   "outputs": [
    {
     "name": "stdout",
     "output_type": "stream",
     "text": [
      "Aryan\n"
     ]
    }
   ],
   "source": [
    "# print your name without using any vowels in the code \n",
    "# 'aeiou' not allowed\n",
    "\n",
    "name = chr(65) + 'r' + 'y' + chr(97) + 'n'\n",
    "print(name)"
   ]
  }
 ],
 "metadata": {
  "kernelspec": {
   "display_name": "Python 3",
   "language": "python",
   "name": "python3"
  },
  "language_info": {
   "codemirror_mode": {
    "name": "ipython",
    "version": 3
   },
   "file_extension": ".py",
   "mimetype": "text/x-python",
   "name": "python",
   "nbconvert_exporter": "python",
   "pygments_lexer": "ipython3",
   "version": "3.12.1"
  }
 },
 "nbformat": 4,
 "nbformat_minor": 2
}
