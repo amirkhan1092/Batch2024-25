{
 "cells": [
  {
   "cell_type": "code",
   "execution_count": 1,
   "metadata": {},
   "outputs": [
    {
     "name": "stdout",
     "output_type": "stream",
     "text": [
      "{}\n"
     ]
    }
   ],
   "source": [
    "# Dictionary in Python \n",
    "\n",
    "# How to initialize dict object \n",
    "dct = {}   # dict format\n",
    "dct = dict()  # function dict \n",
    "print(dct)"
   ]
  },
  {
   "cell_type": "code",
   "execution_count": 2,
   "metadata": {},
   "outputs": [
    {
     "name": "stdout",
     "output_type": "stream",
     "text": [
      "{'rahul': 23, 'amit': 45, 'sanjay': 66, 'abhishek': 89}\n"
     ]
    }
   ],
   "source": [
    "# dictionary with items \n",
    "marks = {'rahul':23,'amit':45, 'sanjay':66, 'abhishek':89}\n",
    "print(marks)\n"
   ]
  },
  {
   "cell_type": "code",
   "execution_count": 5,
   "metadata": {},
   "outputs": [
    {
     "name": "stdout",
     "output_type": "stream",
     "text": [
      "45\n"
     ]
    }
   ],
   "source": [
    "# operations \n",
    "marks = {'rahul':23,'amit':45, 'sanjay':66, 'abhishek':89}\n",
    "out = marks['amit']\n",
    "print(out)"
   ]
  },
  {
   "cell_type": "code",
   "execution_count": 7,
   "metadata": {},
   "outputs": [
    {
     "name": "stdout",
     "output_type": "stream",
     "text": [
      "{'rahul': 23, 'amit': 2, 'sanjay': 66, 'abhishek': 89}\n"
     ]
    }
   ],
   "source": [
    "marks = {'rahul':23,'amit':45, 'sanjay':66, 'abhishek':89}\n",
    "marks['amit'] = 2 \n",
    "print(marks)"
   ]
  },
  {
   "cell_type": "code",
   "execution_count": 8,
   "metadata": {},
   "outputs": [
    {
     "name": "stdout",
     "output_type": "stream",
     "text": [
      "{'rahul': 23, 'amit': 45, 'sanjay': 66, 'abhishek': 89, 'rajat': 23}\n"
     ]
    }
   ],
   "source": [
    "marks = {'rahul':23,'amit':45, 'sanjay':66, 'abhishek':89}\n",
    "marks['rajat'] = 23 \n",
    "print(marks)"
   ]
  },
  {
   "cell_type": "code",
   "execution_count": 13,
   "metadata": {},
   "outputs": [
    {
     "name": "stdout",
     "output_type": "stream",
     "text": [
      "{'rahul': 23, 'amit': 45, 'sanjay': 66, 2.0: 23}\n"
     ]
    }
   ],
   "source": [
    "marks = {'rahul':23,'amit':45, 'sanjay':66, 2.0: 100}\n",
    "marks[2] = 23 \n",
    "print(marks)"
   ]
  },
  {
   "cell_type": "code",
   "execution_count": null,
   "metadata": {},
   "outputs": [],
   "source": []
  }
 ],
 "metadata": {
  "kernelspec": {
   "display_name": "Python 3",
   "language": "python",
   "name": "python3"
  },
  "language_info": {
   "codemirror_mode": {
    "name": "ipython",
    "version": 3
   },
   "file_extension": ".py",
   "mimetype": "text/x-python",
   "name": "python",
   "nbconvert_exporter": "python",
   "pygments_lexer": "ipython3",
   "version": "3.12.1"
  }
 },
 "nbformat": 4,
 "nbformat_minor": 2
}
