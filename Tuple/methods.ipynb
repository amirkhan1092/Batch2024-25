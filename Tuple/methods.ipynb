{
 "cells": [
  {
   "cell_type": "code",
   "execution_count": 1,
   "metadata": {},
   "outputs": [
    {
     "name": "stdout",
     "output_type": "stream",
     "text": [
      "ls=[2, 3, 4, 5], <class 'list'>\n",
      "tp=(2, 3, 4, 5), <class 'tuple'>\n"
     ]
    }
   ],
   "source": [
    "# Tuple: Ordered collection of objects enclosed within parantheses\n",
    "ls = [2, 3, 4, 5]  # list \n",
    "tp = (2, 3, 4, 5)  # tuple \n",
    "print(f'{ls=}, {type(ls)}')\n",
    "print(f'{tp=}, {type(tp)}')"
   ]
  },
  {
   "cell_type": "code",
   "execution_count": null,
   "metadata": {},
   "outputs": [],
   "source": [
    "# tuple initilization \n",
    "ls = []\n",
    "tp = ()\n",
    "st = ''\n"
   ]
  },
  {
   "cell_type": "code",
   "execution_count": 2,
   "metadata": {},
   "outputs": [
    {
     "name": "stdout",
     "output_type": "stream",
     "text": [
      "<class 'list'>\n"
     ]
    }
   ],
   "source": [
    "ls = [12]\n",
    "print(type(ls))"
   ]
  },
  {
   "cell_type": "code",
   "execution_count": 7,
   "metadata": {},
   "outputs": [
    {
     "name": "stdout",
     "output_type": "stream",
     "text": [
      "<class 'int'>\n"
     ]
    }
   ],
   "source": [
    "tp = (10,)\n",
    "print(type(tp))"
   ]
  },
  {
   "cell_type": "code",
   "execution_count": 8,
   "metadata": {},
   "outputs": [
    {
     "name": "stdout",
     "output_type": "stream",
     "text": [
      "(2, 3, 4, 23) <class 'tuple'>\n"
     ]
    }
   ],
   "source": [
    "# \n",
    "val = 2, 3, 4, 23\n",
    "print(val, type(val))"
   ]
  },
  {
   "cell_type": "code",
   "execution_count": 13,
   "metadata": {},
   "outputs": [
    {
     "name": "stdout",
     "output_type": "stream",
     "text": [
      "(2, 4, 3, 4)\n"
     ]
    }
   ],
   "source": [
    "\n",
    "st2 = (3, 4)\n",
    "out = (2, 4) + st2\n",
    "print(out)"
   ]
  },
  {
   "cell_type": "code",
   "execution_count": 24,
   "metadata": {},
   "outputs": [
    {
     "name": "stdout",
     "output_type": "stream",
     "text": [
      "Negative\n"
     ]
    }
   ],
   "source": [
    "n = 434\n",
    "re = n >> 7\n",
    "if re & 1:\n",
    "    print('Negative')\n",
    "elif not n:\n",
    "    print('Zero')\n",
    "else:\n",
    "    print('Positive')"
   ]
  }
 ],
 "metadata": {
  "kernelspec": {
   "display_name": "Python 3",
   "language": "python",
   "name": "python3"
  },
  "language_info": {
   "codemirror_mode": {
    "name": "ipython",
    "version": 3
   },
   "file_extension": ".py",
   "mimetype": "text/x-python",
   "name": "python",
   "nbconvert_exporter": "python",
   "pygments_lexer": "ipython3",
   "version": "3.12.1"
  }
 },
 "nbformat": 4,
 "nbformat_minor": 2
}
