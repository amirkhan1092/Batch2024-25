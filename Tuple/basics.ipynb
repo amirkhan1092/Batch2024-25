{
 "cells": [
  {
   "cell_type": "code",
   "execution_count": 2,
   "metadata": {},
   "outputs": [
    {
     "name": "stdout",
     "output_type": "stream",
     "text": [
      "(2, 4, 5, 6) <class 'tuple'>\n"
     ]
    }
   ],
   "source": [
    "# Tuple: Ordered collection of object enclosed within parantheses\n",
    "ls = (2, 4, 5, 6)\n",
    "print(ls, type(ls))\n"
   ]
  },
  {
   "cell_type": "code",
   "execution_count": 9,
   "metadata": {},
   "outputs": [
    {
     "name": "stdout",
     "output_type": "stream",
     "text": [
      "(2,) <class 'tuple'>\n"
     ]
    }
   ],
   "source": [
    "# tuple with single element \n",
    "# st = (2)\n",
    "st = (2,)\n",
    "print(st, type(st))"
   ]
  },
  {
   "cell_type": "code",
   "execution_count": 16,
   "metadata": {},
   "outputs": [
    {
     "name": "stdout",
     "output_type": "stream",
     "text": [
      "(2, 3, 45, 23, 2, 4) <class 'tuple'>\n"
     ]
    }
   ],
   "source": [
    "\n",
    "st2 = (2, 4)\n",
    "out = (2, 3, 45, 23) + st2\n",
    "print(out, type(st))"
   ]
  }
 ],
 "metadata": {
  "kernelspec": {
   "display_name": "Python 3",
   "language": "python",
   "name": "python3"
  },
  "language_info": {
   "codemirror_mode": {
    "name": "ipython",
    "version": 3
   },
   "file_extension": ".py",
   "mimetype": "text/x-python",
   "name": "python",
   "nbconvert_exporter": "python",
   "pygments_lexer": "ipython3",
   "version": "3.12.1"
  }
 },
 "nbformat": 4,
 "nbformat_minor": 2
}
