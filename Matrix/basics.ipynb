{
 "cells": [
  {
   "cell_type": "code",
   "execution_count": 2,
   "metadata": {},
   "outputs": [
    {
     "name": "stdout",
     "output_type": "stream",
     "text": [
      "1\n"
     ]
    }
   ],
   "source": [
    "# Matrix or 2D Array \n",
    "ls = [1, 2, 4, 5, 6]\n",
    "out = ls[0]\n",
    "print(out)\n"
   ]
  },
  {
   "cell_type": "code",
   "execution_count": null,
   "metadata": {},
   "outputs": [],
   "source": [
    "# Matrix: arrangment of data elements in rows and columns \n",
    "'''\n",
    "2 5\n",
    "6 4\n",
    "\n",
    "rows = 2\n",
    "columns = 2\n",
    "'''"
   ]
  },
  {
   "cell_type": "code",
   "execution_count": null,
   "metadata": {},
   "outputs": [],
   "source": [
    "# list data repr of 1-D Array\n",
    "ls = [2, 3, 5, 6]\n",
    "ele = ls[2]  # element at single indics [1-D Array] \n",
    "print(ele)"
   ]
  },
  {
   "cell_type": "code",
   "execution_count": 6,
   "metadata": {},
   "outputs": [
    {
     "name": "stdout",
     "output_type": "stream",
     "text": [
      "6\n"
     ]
    },
    {
     "data": {
      "text/plain": [
       "'\\n2 4\\n5 6\\n'"
      ]
     },
     "execution_count": 6,
     "metadata": {},
     "output_type": "execute_result"
    }
   ],
   "source": [
    "# 2-D Array \n",
    "ls = [[2, 4], [5, 6]]\n",
    "# ls[R][C]  # double indics \n",
    "ele = ls[1][1]\n",
    "print(ele)\n",
    "'''\n",
    "2 4\n",
    "5 6\n",
    "'''"
   ]
  },
  {
   "cell_type": "code",
   "execution_count": 9,
   "metadata": {},
   "outputs": [
    {
     "name": "stdout",
     "output_type": "stream",
     "text": [
      "1 2 \n",
      "0 9 \n",
      "3 4 \n"
     ]
    }
   ],
   "source": [
    "# How can display nested list (2-D list) as a matrix\n",
    "ls = [[1, 2], [0, 9], [3, 4]]\n",
    "# Method1\n",
    "for i in ls:\n",
    "    for j in i:\n",
    "        print(j, end=' ')\n",
    "    print()"
   ]
  },
  {
   "cell_type": "code",
   "execution_count": 19,
   "metadata": {},
   "outputs": [
    {
     "name": "stdout",
     "output_type": "stream",
     "text": [
      "23 4 40 120 34\n",
      "h\te\tl\tl\to\n"
     ]
    }
   ],
   "source": [
    "# method2\n",
    "ls = [23, 4, 40, 120, 34]\n",
    "# print(ls[0], ls[1], ...)\n",
    "print(*ls)\n",
    "st = 'hello'\n",
    "print(*st, sep='\\t')"
   ]
  },
  {
   "cell_type": "code",
   "execution_count": 21,
   "metadata": {},
   "outputs": [
    {
     "name": "stdout",
     "output_type": "stream",
     "text": [
      "1 2 4\n",
      "4 6 8\n"
     ]
    }
   ],
   "source": [
    "# Method2\n",
    "M = [[1, 2, 4], [4, 6, 8]]\n",
    "for i in M:\n",
    "    print(*i)"
   ]
  },
  {
   "cell_type": "code",
   "execution_count": 33,
   "metadata": {},
   "outputs": [
    {
     "name": "stdout",
     "output_type": "stream",
     "text": [
      "False\n"
     ]
    }
   ],
   "source": [
    "# Matrix Validation \n",
    "ls = [[23], [4], 23]\n",
    "validity = True\n",
    "if type(ls[0]) == list:\n",
    "    ln = len(ls[0])\n",
    "for i in ls:\n",
    "    if type(i) != list or ln != len(i):\n",
    "        validity = False\n",
    "        break\n",
    "print(validity)\n"
   ]
  },
  {
   "cell_type": "code",
   "execution_count": 39,
   "metadata": {},
   "outputs": [
    {
     "name": "stdout",
     "output_type": "stream",
     "text": [
      "Addition of Matrix M\n",
      "\n",
      "3 4 10\n",
      "12 6 8\n"
     ]
    }
   ],
   "source": [
    "# Matrix Operations : Addition of two matrix \n",
    "'''\n",
    "M1\n",
    "2 3 4\n",
    "4 5 6\n",
    "\n",
    "M2\n",
    "1 1 6\n",
    "8 1 2\n",
    "'''\n",
    "M1 = [[2, 3, 4], [4, 5, 6]]\n",
    "M2 = [[1, 1, 6], [8, 1, 2]]\n",
    "r1 = len(M1)\n",
    "c1 = len(M1[0])\n",
    "r2 = len(M2)\n",
    "c2 = len(M2[0])\n",
    "\n",
    "if (r1, c1) == (r2, c2):\n",
    "    M = eval(str([[0]*c1]*r1))\n",
    "    for i in range(r1):\n",
    "        for j in range(c1):\n",
    "            M[i][j] = M1[i][j] + M2[i][j]\n",
    "\n",
    "    print('Matrix M1')\n",
    "    for i in M1:\n",
    "        print(*i)\n",
    "    print('\\nMatrix M2')\n",
    "    for i in M2:\n",
    "        print(*i)\n",
    "    print('\\nAddition of Matrix M\\n')\n",
    "    for i in M:\n",
    "        print(*i)\n",
    "else:\n",
    "    print('Invalid Dimension for Addition')"
   ]
  },
  {
   "cell_type": "code",
   "execution_count": 38,
   "metadata": {},
   "outputs": [
    {
     "name": "stdout",
     "output_type": "stream",
     "text": [
      "[[100, 0], [0, 0], [0, 0]]\n"
     ]
    }
   ],
   "source": [
    "out = eval(str([[0, 0]]*3))\n",
    "out[0][0] = 100\n",
    "print(out)"
   ]
  }
 ],
 "metadata": {
  "kernelspec": {
   "display_name": "Python 3",
   "language": "python",
   "name": "python3"
  },
  "language_info": {
   "codemirror_mode": {
    "name": "ipython",
    "version": 3
   },
   "file_extension": ".py",
   "mimetype": "text/x-python",
   "name": "python",
   "nbconvert_exporter": "python",
   "pygments_lexer": "ipython3",
   "version": "3.12.1"
  }
 },
 "nbformat": 4,
 "nbformat_minor": 2
}
