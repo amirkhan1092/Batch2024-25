{
 "cells": [
  {
   "cell_type": "code",
   "execution_count": 2,
   "metadata": {},
   "outputs": [
    {
     "name": "stdout",
     "output_type": "stream",
     "text": [
      "1\n"
     ]
    }
   ],
   "source": [
    "# Matrix or 2D Array \n",
    "ls = [1, 2, 4, 5, 6]\n",
    "out = ls[0]\n",
    "print(out)\n"
   ]
  },
  {
   "cell_type": "code",
   "execution_count": 2,
   "metadata": {},
   "outputs": [
    {
     "name": "stdout",
     "output_type": "stream",
     "text": [
      "1\n"
     ]
    }
   ],
   "source": [
    "# Matrix: (2-D List)\n",
    "ls = [[1, 2], [3, 4]]\n",
    "out = ls[0][0]\n",
    "print(out)"
   ]
  },
  {
   "cell_type": "code",
   "execution_count": 20,
   "metadata": {},
   "outputs": [
    {
     "name": "stdout",
     "output_type": "stream",
     "text": [
      "2 3 4 5\n",
      "3 6 7 8\n",
      "1 0 2 1\n"
     ]
    }
   ],
   "source": [
    "'''\n",
    "2 3 4 5\n",
    "3 6 7 8 \n",
    "1 0 2 1\n",
    "3 x 4\n",
    "'''\n",
    "ls = [[2, 3, 4, 5], [3, 6, 7, 8], [1, 0, 2, 1]]\n",
    "disp_mat(ls)"
   ]
  },
  {
   "cell_type": "code",
   "execution_count": 18,
   "metadata": {},
   "outputs": [],
   "source": [
    "# display matrix \n",
    "# print(ls)\n",
    "# ls = [[2, 3, 4, 5], [3, 6, 7, 8], [1, 0, 2, 1]]\n",
    "def disp_mat(ls):\n",
    "    for i in ls:\n",
    "        print(*i)"
   ]
  },
  {
   "cell_type": "code",
   "execution_count": null,
   "metadata": {},
   "outputs": [
    {
     "name": "stdout",
     "output_type": "stream",
     "text": [
      "1 2 3 4\n"
     ]
    }
   ],
   "source": [
    "ls = [1, 2, 3, 4]\n",
    "print(*ls)"
   ]
  },
  {
   "cell_type": "code",
   "execution_count": 22,
   "metadata": {},
   "outputs": [],
   "source": [
    "# validity of Matrix \n",
    "def validity(ls: list)->bool:\n",
    "    'Matrix Validity Function'\n",
    "    if type(ls[0]) == list:\n",
    "        ln = len(ls[0])\n",
    "        for i in ls:\n",
    "            if type(i) != list  or len(i) != ln:\n",
    "                return False\n",
    "        return True\n",
    "    return False"
   ]
  },
  {
   "cell_type": "code",
   "execution_count": null,
   "metadata": {},
   "outputs": [],
   "source": [
    "ord"
   ]
  },
  {
   "cell_type": "code",
   "execution_count": 41,
   "metadata": {},
   "outputs": [],
   "source": [
    "def add(a:int, b:int)->int:\n",
    "    '''This is the function for the Addition \n",
    "of two number'''\n",
    "    return a + b\n"
   ]
  },
  {
   "cell_type": "code",
   "execution_count": 42,
   "metadata": {},
   "outputs": [
    {
     "name": "stdout",
     "output_type": "stream",
     "text": [
      "This is the function for the Addition \n",
      "of two number\n"
     ]
    }
   ],
   "source": [
    "print(add.__doc__)"
   ]
  },
  {
   "cell_type": "code",
   "execution_count": 45,
   "metadata": {},
   "outputs": [],
   "source": [
    "def size(ls: list)->tuple:\n",
    "    return len(ls),  len(ls[0])\n"
   ]
  },
  {
   "cell_type": "code",
   "execution_count": null,
   "metadata": {},
   "outputs": [
    {
     "name": "stdout",
     "output_type": "stream",
     "text": [
      "11 2\n",
      "3 13\n"
     ]
    }
   ],
   "source": [
    "# Matrix Operations \n",
    "# Addition of two matrix \n",
    "'''\n",
    "M1\n",
    "1 2\n",
    "3 4\n",
    "6 9\n",
    "\n",
    "M2\n",
    "10 0\n",
    "0 9\n",
    "1 1\n",
    "\n",
    "Addition\n",
    "11 2\n",
    "3 13\n",
    "7 10\n",
    "'''\n",
    "\n",
    "M1 = [[1, 2], [3, 4]]\n",
    "M2 = [[10, 0], [0, 9]]\n",
    "if validity(M1) and validity(M2):\n",
    "    r1, c1 = size(M1)\n",
    "    r2, c2 = size(M2)\n",
    "    if (r1, c1) == (r2, c2):\n",
    "        M = eval(str([[0] * c1] * r1))\n",
    "        for i in range(r1):\n",
    "            for j in range(c1):\n",
    "                M[i][j] = M1[i][j] + M2[i][j]\n",
    "        disp_mat(M)\n",
    "    else:\n",
    "        print('Matrix dimensions is not valid for Addition')\n",
    "\n",
    "else:\n",
    "    print('matrix is not valid')"
   ]
  },
  {
   "cell_type": "code",
   "execution_count": 61,
   "metadata": {},
   "outputs": [
    {
     "name": "stdout",
     "output_type": "stream",
     "text": [
      "4399235520 4399269120\n",
      "[[10, 3], [10, 3], [10, 3]]\n",
      "[[10, 3, 100], [10, 3], [10, 3]]\n"
     ]
    }
   ],
   "source": [
    "ls = eval(str([[10, 3]] * 3))\n",
    "print(id(ls[0]), id(ls[1]))\n",
    "print(ls)\n",
    "ls[0].append(100)\n",
    "print(ls)\n"
   ]
  },
  {
   "cell_type": "code",
   "execution_count": null,
   "metadata": {},
   "outputs": [],
   "source": [
    "# Matrix: arrangment of data elements in rows and columns \n",
    "'''\n",
    "2 5\n",
    "6 4\n",
    "\n",
    "rows = 2\n",
    "columns = 2\n",
    "'''"
   ]
  },
  {
   "cell_type": "code",
   "execution_count": null,
   "metadata": {},
   "outputs": [],
   "source": [
    "# list data repr of 1-D Array\n",
    "ls = [2, 3, 5, 6]\n",
    "ele = ls[2]  # element at single indics [1-D Array] \n",
    "print(ele)"
   ]
  },
  {
   "cell_type": "code",
   "execution_count": 6,
   "metadata": {},
   "outputs": [
    {
     "name": "stdout",
     "output_type": "stream",
     "text": [
      "6\n"
     ]
    },
    {
     "data": {
      "text/plain": [
       "'\\n2 4\\n5 6\\n'"
      ]
     },
     "execution_count": 6,
     "metadata": {},
     "output_type": "execute_result"
    }
   ],
   "source": [
    "# 2-D Array \n",
    "ls = [[2, 4], [5, 6]]\n",
    "# ls[R][C]  # double indics \n",
    "ele = ls[1][1]\n",
    "print(ele)\n",
    "'''\n",
    "2 4\n",
    "5 6\n",
    "'''"
   ]
  },
  {
   "cell_type": "code",
   "execution_count": 9,
   "metadata": {},
   "outputs": [
    {
     "name": "stdout",
     "output_type": "stream",
     "text": [
      "1 2 \n",
      "0 9 \n",
      "3 4 \n"
     ]
    }
   ],
   "source": [
    "# How can display nested list (2-D list) as a matrix\n",
    "ls = [[1, 2], [0, 9], [3, 4]]\n",
    "# Method1\n",
    "for i in ls:\n",
    "    for j in i:\n",
    "        print(j, end=' ')\n",
    "    print()"
   ]
  },
  {
   "cell_type": "code",
   "execution_count": 19,
   "metadata": {},
   "outputs": [
    {
     "name": "stdout",
     "output_type": "stream",
     "text": [
      "23 4 40 120 34\n",
      "h\te\tl\tl\to\n"
     ]
    }
   ],
   "source": [
    "# method2\n",
    "ls = [23, 4, 40, 120, 34]\n",
    "# print(ls[0], ls[1], ...)\n",
    "print(*ls)\n",
    "st = 'hello'\n",
    "print(*st, sep='\\t')"
   ]
  },
  {
   "cell_type": "code",
   "execution_count": 21,
   "metadata": {},
   "outputs": [
    {
     "name": "stdout",
     "output_type": "stream",
     "text": [
      "1 2 4\n",
      "4 6 8\n"
     ]
    }
   ],
   "source": [
    "# Method2\n",
    "M = [[1, 2, 4], [4, 6, 8]]\n",
    "for i in M:\n",
    "    print(*i)"
   ]
  },
  {
   "cell_type": "code",
   "execution_count": 33,
   "metadata": {},
   "outputs": [
    {
     "name": "stdout",
     "output_type": "stream",
     "text": [
      "False\n"
     ]
    }
   ],
   "source": [
    "# Matrix Validation \n",
    "ls = [[23], [4], 23]\n",
    "validity = True\n",
    "if type(ls[0]) == list:\n",
    "    ln = len(ls[0])\n",
    "for i in ls:\n",
    "    if type(i) != list or ln != len(i):\n",
    "        validity = False\n",
    "        break\n",
    "print(validity)\n"
   ]
  },
  {
   "cell_type": "code",
   "execution_count": 42,
   "metadata": {},
   "outputs": [
    {
     "name": "stdout",
     "output_type": "stream",
     "text": [
      "Matrix M1\n",
      "2 3 4\n",
      "4 5 6\n",
      "\n",
      "Matrix M2\n",
      "1 1 6\n",
      "8 1 2\n",
      "\n",
      "Addition of Matrix M\n",
      "3\t4\t10\n",
      "12\t6\t8\n"
     ]
    }
   ],
   "source": [
    "# Matrix Operations : Addition of two matrix \n",
    "'''\n",
    "M1\n",
    "2 3 4\n",
    "4 5 6\n",
    "\n",
    "M2\n",
    "1 1 6\n",
    "8 1 2\n",
    "'''\n",
    "M1 = [[2, 3, 4], [4, 5, 6]]\n",
    "M2 = [[1, 1, 6], [8, 1, 2]]\n",
    "r1 = len(M1)\n",
    "c1 = len(M1[0])\n",
    "r2 = len(M2)\n",
    "c2 = len(M2[0])\n",
    "\n",
    "if (r1, c1) == (r2, c2):\n",
    "    M = eval(str([[0]*c1]*r1))\n",
    "    for i in range(r1):\n",
    "        for j in range(c1):\n",
    "            M[i][j] = M1[i][j] + M2[i][j]\n",
    "\n",
    "    print('Matrix M1')\n",
    "    for i in M1:\n",
    "        print(*i)\n",
    "    print('\\nMatrix M2')\n",
    "    for i in M2:\n",
    "        print(*i)\n",
    "    print('\\nAddition of Matrix M')\n",
    "    for i in M:\n",
    "        print(*i, sep='\\t')\n",
    "else:\n",
    "    print('Invalid Dimension for Addition')"
   ]
  },
  {
   "cell_type": "code",
   "execution_count": null,
   "metadata": {},
   "outputs": [],
   "source": []
  },
  {
   "cell_type": "code",
   "execution_count": 38,
   "metadata": {},
   "outputs": [
    {
     "name": "stdout",
     "output_type": "stream",
     "text": [
      "[[100, 0], [0, 0], [0, 0]]\n"
     ]
    }
   ],
   "source": [
    "out = eval(str([[0, 0]]*3))\n",
    "out[0][0] = 100\n",
    "print(out)"
   ]
  },
  {
   "cell_type": "code",
   "execution_count": 57,
   "metadata": {},
   "outputs": [
    {
     "name": "stdout",
     "output_type": "stream",
     "text": [
      "sss\ts\n"
     ]
    }
   ],
   "source": [
    "print('sss\\ts')"
   ]
  },
  {
   "cell_type": "code",
   "execution_count": 11,
   "metadata": {},
   "outputs": [
    {
     "name": "stdout",
     "output_type": "stream",
     "text": [
      "19 22\n",
      "43 50\n"
     ]
    }
   ],
   "source": [
    "data = '''\n",
    "2 2\n",
    "-1 -2\n",
    "-3 -4\n",
    "2 2\n",
    "-5 -6\n",
    "-7 -8\n",
    "\n",
    "\n",
    "\n",
    "\n",
    "'''.strip().split('\\n')\n",
    "data = iter(data)\n",
    "r1, c1 = map(int, next(data).split())\n",
    "M1 = []\n",
    "M2 = []\n",
    "for i in range(1, r1+1):\n",
    "    M1.append(list(map(int, next(data).split())))\n",
    "\n",
    "r2, c2 = map(int, next(data).split())\n",
    "for i in range(1, r2+1):\n",
    "    M2.append(list(map(int, next(data).split())))\n",
    "\n",
    "# print(M1)\n",
    "# print(M2)\n",
    "\n",
    "def matrix_multiply(A, B):\n",
    "    # Number of rows in A and columns in B\n",
    "    rows_A, cols_A = len(A), len(A[0])\n",
    "    rows_B, cols_B = len(B), len(B[0])\n",
    "\n",
    "    # Check if multiplication is possible\n",
    "    if cols_A != rows_B:\n",
    "        raise ValueError(\"Number of columns in A must match the number of rows in B.\")\n",
    "    \n",
    "    # Initialize the result matrix with zeros\n",
    "    result = [[0 for _ in range(cols_B)] for _ in range(rows_A)]\n",
    "    \n",
    "    # Perform multiplication\n",
    "    for i in range(rows_A):\n",
    "        for j in range(cols_B):\n",
    "            for k in range(cols_A):\n",
    "                result[i][j] += A[i][k] * B[k][j]\n",
    "    \n",
    "    return result\n",
    "\n",
    "# # Example usage\n",
    "# A = [[1, 2, 3],\n",
    "#      [4, 5, 6]]\n",
    "# B = [[7, 8],\n",
    "#      [9, 10],\n",
    "#      [11, 12]]\n",
    "\n",
    "result = matrix_multiply(M1, M2)\n",
    "\n",
    "# Display the result\n",
    "for row in result:\n",
    "    print(*row)\n"
   ]
  }
 ],
 "metadata": {
  "kernelspec": {
   "display_name": "Python 3",
   "language": "python",
   "name": "python3"
  },
  "language_info": {
   "codemirror_mode": {
    "name": "ipython",
    "version": 3
   },
   "file_extension": ".py",
   "mimetype": "text/x-python",
   "name": "python",
   "nbconvert_exporter": "python",
   "pygments_lexer": "ipython3",
   "version": "3.12.1"
  }
 },
 "nbformat": 4,
 "nbformat_minor": 2
}
