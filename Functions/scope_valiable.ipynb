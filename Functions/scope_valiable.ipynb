{
 "cells": [
  {
   "cell_type": "code",
   "execution_count": null,
   "metadata": {},
   "outputs": [],
   "source": []
  },
  {
   "cell_type": "code",
   "execution_count": null,
   "metadata": {},
   "outputs": [],
   "source": [
    "# Scope of variable \n",
    "'''\n",
    "1. local variable \n",
    "2. global variable \n",
    "3. nonlocal varibale \n",
    "\n",
    "'''"
   ]
  },
  {
   "cell_type": "code",
   "execution_count": 1,
   "metadata": {},
   "outputs": [
    {
     "name": "stdout",
     "output_type": "stream",
     "text": [
      "100\n"
     ]
    }
   ],
   "source": [
    "def add():\n",
    "    # local Scope\n",
    "    a = 10  # local variable \n",
    "\n",
    "# Global Scope \n",
    "a = 100  # Global Variable \n",
    "add()\n",
    "print(a)"
   ]
  },
  {
   "cell_type": "code",
   "execution_count": 2,
   "metadata": {},
   "outputs": [
    {
     "name": "stdout",
     "output_type": "stream",
     "text": [
      "10\n",
      "100\n"
     ]
    }
   ],
   "source": [
    "def add():\n",
    "    # local Scope\n",
    "    a = 10  # local variable \n",
    "    print(a)\n",
    "\n",
    "# Global Scope \n",
    "a = 100  # Global Variable \n",
    "add()\n",
    "print(a)"
   ]
  },
  {
   "cell_type": "code",
   "execution_count": null,
   "metadata": {},
   "outputs": [],
   "source": [
    "def add():\n",
    "    # local Scope\n",
    "    # a = 10  # local variable \n",
    "    print(a)  # reference from the global \n",
    "    # a is global variable\n",
    "\n",
    "# Global Scope \n",
    "a = 100  # Global Variable \n",
    "add()\n",
    "print(a)"
   ]
  },
  {
   "cell_type": "code",
   "execution_count": null,
   "metadata": {},
   "outputs": [],
   "source": [
    "def add():\n",
    "    # local Scope\n",
    "    print(a)  # reference from global\n",
    "    a = 10  # local variable dec\n",
    "    # error: UnboundlocalError\n",
    "\n",
    "# Global Scope \n",
    "a = 100  # Global Variable \n",
    "add()\n",
    "print(a)"
   ]
  },
  {
   "cell_type": "code",
   "execution_count": 4,
   "metadata": {},
   "outputs": [
    {
     "name": "stdout",
     "output_type": "stream",
     "text": [
      "10\n"
     ]
    }
   ],
   "source": [
    "# permission to modify or use the global scope varibale \n",
    "# global keyword\n",
    "def add():\n",
    "    global a  # now function add having persmission to use the global scope for variable a\n",
    "    a = 10  # local variable dec\n",
    "\n",
    "\n",
    "# Global Scope \n",
    "a = 100  # Global Variable \n",
    "add()\n",
    "print(a)"
   ]
  },
  {
   "cell_type": "code",
   "execution_count": null,
   "metadata": {},
   "outputs": [
    {
     "name": "stdout",
     "output_type": "stream",
     "text": [
      "__main__\n",
      "10\n",
      "34\n",
      "34\n",
      "400\n"
     ]
    }
   ],
   "source": [
    "# nonlocal scope \n",
    "def add():\n",
    "    # local Scope\n",
    "    def xyz():\n",
    "        a = 23\n",
    "    def non_xyz():\n",
    "        nonlocal a\n",
    "        a = 34\n",
    "    def glo_xyz():\n",
    "        global a\n",
    "        a = 400\n",
    "    # nonlocal scope\n",
    "    a = 10\n",
    "    xyz()\n",
    "    print(a)\n",
    "    non_xyz()\n",
    "    print(a)\n",
    "    glo_xyz()\n",
    "    print(a)\n",
    "\n",
    "# Global Scope \n",
    "if __name__ == '__main__':\n",
    "    a = 100  # Global Variable \n",
    "    add()\n",
    "    print(a)"
   ]
  }
 ],
 "metadata": {
  "kernelspec": {
   "display_name": "Python 3",
   "language": "python",
   "name": "python3"
  },
  "language_info": {
   "codemirror_mode": {
    "name": "ipython",
    "version": 3
   },
   "file_extension": ".py",
   "mimetype": "text/x-python",
   "name": "python",
   "nbconvert_exporter": "python",
   "pygments_lexer": "ipython3",
   "version": "3.12.1"
  }
 },
 "nbformat": 4,
 "nbformat_minor": 2
}
