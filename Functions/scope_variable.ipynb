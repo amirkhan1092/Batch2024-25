{
 "cells": [
  {
   "cell_type": "code",
   "execution_count": null,
   "metadata": {},
   "outputs": [],
   "source": [
    "# scope of the variable\n",
    "'''\n",
    "1. local\n",
    "2. nonlocal\n",
    "3. global\n",
    "'''"
   ]
  },
  {
   "cell_type": "code",
   "execution_count": 7,
   "metadata": {},
   "outputs": [
    {
     "name": "stdout",
     "output_type": "stream",
     "text": [
      "12\n"
     ]
    }
   ],
   "source": [
    "\n",
    "def add():\n",
    "    num = 10  # local variable\n",
    "\n",
    "num = 12  # gloabl variable \n",
    "add()\n",
    "print(num)"
   ]
  },
  {
   "cell_type": "code",
   "execution_count": 12,
   "metadata": {},
   "outputs": [
    {
     "name": "stdout",
     "output_type": "stream",
     "text": [
      "23\n"
     ]
    }
   ],
   "source": [
    "def add():\n",
    "    global a\n",
    "    a = 23\n",
    "\n",
    "\n",
    "# global Scope\n",
    "a = 10  # global variable \n",
    "add()\n",
    "print(a)\n"
   ]
  },
  {
   "cell_type": "code",
   "execution_count": 4,
   "metadata": {},
   "outputs": [],
   "source": [
    "# scope of a variable\n",
    "'''\n",
    "1. local\n",
    "2. gloabl\n",
    "3. nonlocal\n",
    "'''"
   ]
  },
  {
   "cell_type": "code",
   "execution_count": 13,
   "metadata": {},
   "outputs": [
    {
     "name": "stdout",
     "output_type": "stream",
     "text": [
      "10\n",
      "0\n"
     ]
    }
   ],
   "source": [
    "\n",
    "def add():\n",
    "    global a\n",
    "    a = 0\n",
    "\n",
    "# main code\n",
    "a = 10\n",
    "add()\n",
    "print(a)\n"
   ]
  },
  {
   "cell_type": "code",
   "execution_count": 6,
   "metadata": {},
   "outputs": [],
   "source": [
    "del a"
   ]
  },
  {
   "cell_type": "code",
   "execution_count": 1,
   "metadata": {},
   "outputs": [
    {
     "name": "stdout",
     "output_type": "stream",
     "text": [
      "100\n"
     ]
    }
   ],
   "source": [
    "# local \n",
    "def add():\n",
    "    a = 10  # local variable \n",
    "\n",
    "# main code\n",
    "a = 100\n",
    "add()\n",
    "print(a)\n"
   ]
  },
  {
   "cell_type": "code",
   "execution_count": 2,
   "metadata": {},
   "outputs": [
    {
     "name": "stdout",
     "output_type": "stream",
     "text": [
      "10\n"
     ]
    }
   ],
   "source": [
    "# non local \n",
    "def add():\n",
    "    global a\n",
    "    a = 10  # local variable \n",
    "\n",
    "# main code\n",
    "\n",
    "add()\n",
    "print(a)\n"
   ]
  },
  {
   "cell_type": "code",
   "execution_count": 4,
   "metadata": {},
   "outputs": [
    {
     "name": "stdout",
     "output_type": "stream",
     "text": [
      "0\n",
      "3\n",
      "3\n",
      "10\n"
     ]
    }
   ],
   "source": [
    "def add():\n",
    "    def fun1():\n",
    "        a = 2\n",
    "    def fun2():\n",
    "        nonlocal a\n",
    "        a = 3\n",
    "    def fun3():\n",
    "        global a\n",
    "        a = 10\n",
    "    a = 0\n",
    "    fun1()\n",
    "    print(a)\n",
    "    fun2()\n",
    "    print(a)\n",
    "    fun3()\n",
    "    print(a)\n",
    "# main code\n",
    "a = 100\n",
    "add()\n",
    "print(a)       "
   ]
  },
  {
   "cell_type": "code",
   "execution_count": 1,
   "metadata": {},
   "outputs": [
    {
     "name": "stdout",
     "output_type": "stream",
     "text": [
      "10\n",
      "10\n",
      "10\n",
      "10\n",
      "10\n",
      "400\n"
     ]
    }
   ],
   "source": [
    "# nonlocal scope \n",
    "def add():\n",
    "    # local Scope\n",
    "    def xyz():\n",
    "        print(a)\n",
    "    def non_xyz():\n",
    "        nonlocal a\n",
    "        print(a)\n",
    "    def glo_xyz():\n",
    "        global a\n",
    "        a = 400\n",
    "    # nonlocal scope\n",
    "    a = 10\n",
    "    xyz()\n",
    "    print(a)\n",
    "    non_xyz()\n",
    "    print(a)\n",
    "    glo_xyz()\n",
    "    print(a)\n",
    "\n",
    "# Global Scope \n",
    "a = 100  # Global Variable \n",
    "add()\n",
    "print(a)"
   ]
  }
 ],
 "metadata": {
  "kernelspec": {
   "display_name": "Python 3",
   "language": "python",
   "name": "python3"
  },
  "language_info": {
   "codemirror_mode": {
    "name": "ipython",
    "version": 3
   },
   "file_extension": ".py",
   "mimetype": "text/x-python",
   "name": "python",
   "nbconvert_exporter": "python",
   "pygments_lexer": "ipython3",
   "version": "3.12.1"
  },
  "orig_nbformat": 4
 },
 "nbformat": 4,
 "nbformat_minor": 2
}
