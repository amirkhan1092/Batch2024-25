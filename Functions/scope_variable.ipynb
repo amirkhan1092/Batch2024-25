{
 "cells": [
  {
   "cell_type": "code",
   "execution_count": null,
   "metadata": {},
   "outputs": [],
   "source": [
    "# scope of the variable\n",
    "'''\n",
    "1. local\n",
    "2. nonlocal\n",
    "3. global\n",
    "'''"
   ]
  },
  {
   "cell_type": "code",
   "execution_count": 7,
   "metadata": {},
   "outputs": [
    {
     "name": "stdout",
     "output_type": "stream",
     "text": [
      "12\n"
     ]
    }
   ],
   "source": [
    "\n",
    "def add():\n",
    "    num = 10  # local variable\n",
    "\n",
    "num = 12  # gloabl variable \n",
    "add()\n",
    "print(num)"
   ]
  },
  {
   "cell_type": "code",
   "execution_count": 12,
   "metadata": {},
   "outputs": [
    {
     "name": "stdout",
     "output_type": "stream",
     "text": [
      "23\n"
     ]
    }
   ],
   "source": [
    "def add():\n",
    "    global a\n",
    "    a = 23\n",
    "\n",
    "\n",
    "# global Scope\n",
    "a = 10  # global variable \n",
    "add()\n",
    "print(a)\n"
   ]
  },
  {
   "cell_type": "code",
   "execution_count": 4,
   "metadata": {},
   "outputs": [],
   "source": [
    "# scope of a variable\n",
    "'''\n",
    "1. local\n",
    "2. gloabl\n",
    "3. nonlocal\n",
    "'''"
   ]
  },
  {
   "cell_type": "code",
   "execution_count": 13,
   "metadata": {},
   "outputs": [
    {
     "name": "stdout",
     "output_type": "stream",
     "text": [
      "10\n",
      "0\n"
     ]
    }
   ],
   "source": [
    "\n",
    "def add():\n",
    "    global a\n",
    "    a = 0\n",
    "\n",
    "# main code\n",
    "a = 10\n",
    "add()\n",
    "print(a)\n"
   ]
  },
  {
   "cell_type": "code",
   "execution_count": 6,
   "metadata": {},
   "outputs": [],
   "source": [
    "del a"
   ]
  },
  {
   "cell_type": "code",
   "execution_count": 1,
   "metadata": {},
   "outputs": [
    {
     "name": "stdout",
     "output_type": "stream",
     "text": [
      "100\n"
     ]
    }
   ],
   "source": [
    "# local \n",
    "def add():\n",
    "    a = 10  # local variable \n",
    "\n",
    "# main code\n",
    "a = 100\n",
    "add()\n",
    "print(a)\n"
   ]
  },
  {
   "cell_type": "code",
   "execution_count": 2,
   "metadata": {},
   "outputs": [
    {
     "name": "stdout",
     "output_type": "stream",
     "text": [
      "10\n"
     ]
    }
   ],
   "source": [
    "# non local \n",
    "def add():\n",
    "    global a\n",
    "    a = 10  # local variable \n",
    "\n",
    "# main code\n",
    "\n",
    "add()\n",
    "print(a)\n"
   ]
  },
  {
   "cell_type": "code",
   "execution_count": 4,
   "metadata": {},
   "outputs": [
    {
     "name": "stdout",
     "output_type": "stream",
     "text": [
      "0\n",
      "3\n",
      "3\n",
      "10\n"
     ]
    }
   ],
   "source": [
    "def add():\n",
    "    def fun1():\n",
    "        a = 2\n",
    "    def fun2():\n",
    "        nonlocal a\n",
    "        a = 3\n",
    "    def fun3():\n",
    "        global a\n",
    "        a = 10\n",
    "    a = 0\n",
    "    fun1()\n",
    "    print(a)\n",
    "    fun2()\n",
    "    print(a)\n",
    "    fun3()\n",
    "    print(a)\n",
    "# main code\n",
    "a = 100\n",
    "add()\n",
    "print(a)       "
   ]
  },
  {
   "cell_type": "code",
   "execution_count": 1,
   "metadata": {},
   "outputs": [
    {
     "name": "stdout",
     "output_type": "stream",
     "text": [
      "10\n",
      "10\n",
      "10\n",
      "10\n",
      "10\n",
      "400\n"
     ]
    }
   ],
   "source": [
    "# nonlocal scope \n",
    "def add():\n",
    "    # local Scope\n",
    "    def xyz():\n",
    "        print(a)\n",
    "    def non_xyz():\n",
    "        nonlocal a\n",
    "        print(a)\n",
    "    def glo_xyz():\n",
    "        global a\n",
    "        a = 400\n",
    "    # nonlocal scope\n",
    "    a = 10\n",
    "    xyz()\n",
    "    print(a)\n",
    "    non_xyz()\n",
    "    print(a)\n",
    "    glo_xyz()\n",
    "    print(a)\n",
    "\n",
    "# Global Scope \n",
    "a = 100  # Global Variable \n",
    "add()\n",
    "print(a)"
   ]
  },
  {
   "cell_type": "code",
   "execution_count": 6,
   "metadata": {},
   "outputs": [
    {
     "name": "stdout",
     "output_type": "stream",
     "text": [
      "100\n"
     ]
    },
    {
     "ename": "NameError",
     "evalue": "name 'ab' is not defined",
     "output_type": "error",
     "traceback": [
      "\u001b[0;31m---------------------------------------------------------------------------\u001b[0m",
      "\u001b[0;31mNameError\u001b[0m                                 Traceback (most recent call last)",
      "Cell \u001b[0;32mIn[6], line 10\u001b[0m\n\u001b[1;32m      7\u001b[0m \u001b[38;5;66;03m# global scope \u001b[39;00m\n\u001b[1;32m      8\u001b[0m \u001b[38;5;66;03m# a = 10  # global variable\u001b[39;00m\n\u001b[1;32m      9\u001b[0m add()\n\u001b[0;32m---> 10\u001b[0m \u001b[38;5;28mprint\u001b[39m(\u001b[43mab\u001b[49m)\n",
      "\u001b[0;31mNameError\u001b[0m: name 'ab' is not defined"
     ]
    }
   ],
   "source": [
    "# Scope of a variable: \n",
    "def add():\n",
    "    # local scope \n",
    "    ab = 100  # local variable \n",
    "    print(ab)\n",
    "\n",
    "# global scope \n",
    "# a = 10  # global variable\n",
    "add()\n",
    "print(ab)\n"
   ]
  },
  {
   "cell_type": "code",
   "execution_count": null,
   "metadata": {},
   "outputs": [
    {
     "ename": "UnboundLocalError",
     "evalue": "cannot access local variable 'ab' where it is not associated with a value",
     "output_type": "error",
     "traceback": [
      "\u001b[0;31m---------------------------------------------------------------------------\u001b[0m",
      "\u001b[0;31mUnboundLocalError\u001b[0m                         Traceback (most recent call last)",
      "Cell \u001b[0;32mIn[9], line 9\u001b[0m\n\u001b[1;32m      7\u001b[0m \u001b[38;5;66;03m# global scope \u001b[39;00m\n\u001b[1;32m      8\u001b[0m ab \u001b[38;5;241m=\u001b[39m \u001b[38;5;241m10\u001b[39m  \u001b[38;5;66;03m# global variable\u001b[39;00m\n\u001b[0;32m----> 9\u001b[0m \u001b[43madd\u001b[49m\u001b[43m(\u001b[49m\u001b[43m)\u001b[49m\n\u001b[1;32m     10\u001b[0m \u001b[38;5;28mprint\u001b[39m(ab)\n",
      "Cell \u001b[0;32mIn[9], line 4\u001b[0m, in \u001b[0;36madd\u001b[0;34m()\u001b[0m\n\u001b[1;32m      2\u001b[0m \u001b[38;5;28;01mdef\u001b[39;00m \u001b[38;5;21madd\u001b[39m():\n\u001b[1;32m      3\u001b[0m     \u001b[38;5;66;03m# local scope\u001b[39;00m\n\u001b[0;32m----> 4\u001b[0m     \u001b[38;5;28mprint\u001b[39m(\u001b[43mab\u001b[49m)  \u001b[38;5;66;03m# global variable \u001b[39;00m\n\u001b[1;32m      5\u001b[0m     ab \u001b[38;5;241m=\u001b[39m \u001b[38;5;241m100\u001b[39m\n",
      "\u001b[0;31mUnboundLocalError\u001b[0m: cannot access local variable 'ab' where it is not associated with a value"
     ]
    }
   ],
   "source": [
    "# Scope of a variable: \n",
    "def add():\n",
    "    # local scope\n",
    "    print(ab)  # global variable \n",
    "    ab = 100  # UnboundLocalError\n",
    "\n",
    "# global scope \n",
    "ab = 10  # global variable\n",
    "add()\n",
    "print(ab)\n"
   ]
  },
  {
   "cell_type": "code",
   "execution_count": 11,
   "metadata": {},
   "outputs": [
    {
     "name": "stdout",
     "output_type": "stream",
     "text": [
      "100\n"
     ]
    }
   ],
   "source": [
    "# Global Keyword\n",
    "# Scope of a variable: \n",
    "def add():\n",
    "    global ab # func add having permission to use the global scope for the variable ab\n",
    "    ab = 100 \n",
    "\n",
    "# global scope \n",
    "ab = 10  # global variable\n",
    "add()\n",
    "print(ab)\n"
   ]
  },
  {
   "cell_type": "code",
   "execution_count": 13,
   "metadata": {},
   "outputs": [
    {
     "name": "stdout",
     "output_type": "stream",
     "text": [
      "100\n",
      "10\n"
     ]
    }
   ],
   "source": [
    "# Nonlocal \n",
    "def add():\n",
    "    # nonlocal scope\n",
    "    def fun1():\n",
    "        # local \n",
    "        print(ab)\n",
    "\n",
    "    ab = 100\n",
    "    fun1()\n",
    "    \n",
    "# global scope \n",
    "ab = 10  # global variable\n",
    "add()\n",
    "print(ab)\n"
   ]
  },
  {
   "cell_type": "code",
   "execution_count": 15,
   "metadata": {},
   "outputs": [
    {
     "name": "stdout",
     "output_type": "stream",
     "text": [
      "100\n",
      "0\n",
      "0\n",
      "400\n"
     ]
    }
   ],
   "source": [
    "# Nonlocal \n",
    "def add():\n",
    "   \n",
    "    def fun1():\n",
    "        # local \n",
    "        ab = 30\n",
    "    def fun2():\n",
    "        nonlocal ab\n",
    "        ab = 0\n",
    "    def fun3():\n",
    "        global ab\n",
    "        ab = 400\n",
    "\n",
    "    # nonlocal scope\n",
    "    ab = 100\n",
    "    fun1()\n",
    "    print(ab)  # 100\n",
    "    fun2()\n",
    "    print(ab)  # 0\n",
    "    fun3()\n",
    "    print(ab)  # 0\n",
    "    \n",
    "# global scope \n",
    "ab = 10  # global variable\n",
    "add()\n",
    "print(ab)  # 400\n"
   ]
  },
  {
   "cell_type": "code",
   "execution_count": null,
   "metadata": {},
   "outputs": [
    {
     "name": "stdout",
     "output_type": "stream",
     "text": [
      "{'b': 30, 'a': 20, 'c': 34}\n"
     ]
    }
   ],
   "source": [
    "# type of arguments \n",
    "def sub(*y, **dt):\n",
    "    print(y, dt)\n",
    "\n",
    "# main code \n",
    "x = 10\n",
    "y = 20\n",
    "out = sub(1, 3, 34, 45,4 ,6, b=30, a=20, c=34)\n",
    "# print(out)"
   ]
  },
  {
   "cell_type": "code",
   "execution_count": 31,
   "metadata": {},
   "outputs": [
    {
     "name": "stdout",
     "output_type": "stream",
     "text": [
      "20\n"
     ]
    }
   ],
   "source": [
    "marks = {'ravi':10, 'xyz':20, 'abc':40}\n",
    "print(marks['xyz'])\n"
   ]
  },
  {
   "cell_type": "code",
   "execution_count": null,
   "metadata": {},
   "outputs": [
    {
     "name": "stdout",
     "output_type": "stream",
     "text": [
      "[12, 22, 36, 47]\n"
     ]
    }
   ],
   "source": [
    "# map \n",
    "def apna_fun(x):\n",
    "    return x+2\n",
    "\n",
    "ls = [10, 20, 34, 45]\n",
    "out = list(map(apna_fun, ls))\n",
    "print(out)"
   ]
  },
  {
   "cell_type": "code",
   "execution_count": 36,
   "metadata": {},
   "outputs": [
    {
     "name": "stdout",
     "output_type": "stream",
     "text": [
      "[False, True, False, True, False, True, False, True]\n"
     ]
    }
   ],
   "source": [
    "# filter \n",
    "def trans(x):\n",
    "    return x % 2 == 0\n",
    "\n",
    "ls = [1, 2, 3, 4, 5, 6, 7, 8]\n",
    "out = list(map(trans, ls))\n",
    "print(out)"
   ]
  },
  {
   "cell_type": "code",
   "execution_count": 39,
   "metadata": {},
   "outputs": [
    {
     "name": "stdout",
     "output_type": "stream",
     "text": [
      "[]\n"
     ]
    }
   ],
   "source": [
    "# filter \n",
    "def trans(x):\n",
    "    return ''\n",
    "\n",
    "ls = [1, 2, 3, 4, 5, 6, 7, 8]\n",
    "out = list(filter(trans, ls))\n",
    "print(out)"
   ]
  },
  {
   "cell_type": "code",
   "execution_count": 43,
   "metadata": {},
   "outputs": [
    {
     "name": "stdout",
     "output_type": "stream",
     "text": [
      "5\n"
     ]
    }
   ],
   "source": [
    "# lambda function \n",
    "# a function without a function name \n",
    "\n",
    "# def add(a, b):\n",
    "#     return a + b\n",
    "\n",
    "add = lambda a, b : a + b \n",
    "# main \n",
    "out = add(2, 3)\n",
    "print(out)"
   ]
  },
  {
   "cell_type": "code",
   "execution_count": 47,
   "metadata": {},
   "outputs": [
    {
     "name": "stdout",
     "output_type": "stream",
     "text": [
      "[2, 4, 6, 2]\n"
     ]
    }
   ],
   "source": [
    "\n",
    "ls = [2, 4, 5, 6, 7, 2]\n",
    "out = filter(lambda x:x%2==0, ls)\n",
    "print(list(out))\n"
   ]
  },
  {
   "cell_type": "code",
   "execution_count": null,
   "metadata": {},
   "outputs": [],
   "source": []
  },
  {
   "cell_type": "code",
   "execution_count": 44,
   "metadata": {},
   "outputs": [
    {
     "data": {
      "text/plain": [
       "-40.0"
      ]
     },
     "execution_count": 44,
     "metadata": {},
     "output_type": "execute_result"
    }
   ],
   "source": [
    "c2f = lambda x: (x - 32) * (5 / 9)\n",
    "\n",
    "c2f(-40)"
   ]
  },
  {
   "cell_type": "code",
   "execution_count": 50,
   "metadata": {},
   "outputs": [
    {
     "name": "stdout",
     "output_type": "stream",
     "text": [
      "['krishna', 'aanand', 'ratan', 'naman', 'xy']\n"
     ]
    }
   ],
   "source": [
    "name = ['krishna', 'ratan', 'xy', 'naman', 'aanand']\n",
    "name.sort(key=lambda x:x[-1])\n",
    "print(name)"
   ]
  },
  {
   "cell_type": "code",
   "execution_count": null,
   "metadata": {},
   "outputs": [
    {
     "name": "stdout",
     "output_type": "stream",
     "text": [
      "['xy', 'naman', 'ratan', 'aanand', 'krishna']\n"
     ]
    }
   ],
   "source": [
    "\n",
    "name.sort(key=lambda st: sum([ord(i) for i in st]))\n",
    "\n",
    "print(name)"
   ]
  },
  {
   "cell_type": "code",
   "execution_count": null,
   "metadata": {},
   "outputs": [],
   "source": []
  }
 ],
 "metadata": {
  "kernelspec": {
   "display_name": "Python 3",
   "language": "python",
   "name": "python3"
  },
  "language_info": {
   "codemirror_mode": {
    "name": "ipython",
    "version": 3
   },
   "file_extension": ".py",
   "mimetype": "text/x-python",
   "name": "python",
   "nbconvert_exporter": "python",
   "pygments_lexer": "ipython3",
   "version": "3.12.1"
  },
  "orig_nbformat": 4
 },
 "nbformat": 4,
 "nbformat_minor": 2
}
