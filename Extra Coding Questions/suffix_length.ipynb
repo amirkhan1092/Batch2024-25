{
 "cells": [
  {
   "cell_type": "code",
   "execution_count": 25,
   "metadata": {},
   "outputs": [
    {
     "name": "stdout",
     "output_type": "stream",
     "text": [
      "1024 1124 1224 1324 1424 1524 1624 1724 1824 1924 2024 2124 2224 2324 2424 2524 2624 2724 2824 2924 3024 3124 3224 3324 3424 3524 3624 3724 3824 3924 4024 4124 4224 4324 4424 4524 4624 4724 4824 4924 5024 5124 5224 5324 5424 5524 5624 5724 5824 5924 6024 6124 6224 6324 6424 6524 6624 6724 6824 6924 7024 7124 7224 7324 7424 7524 7624 7724 7824 7924 8024 8124 8224 8324 8424 8524 8624 8724 8824 8924 9024 9124 9224 9324 9424 9524 9624 9724 9824 9924 \n",
      "90\n"
     ]
    }
   ],
   "source": [
    "# def count_powerful_integers(start, finish, s):\n",
    "#     suffix_length = len(s)\n",
    "#     suffix = int(s)\n",
    "#     count = 0\n",
    "\n",
    "#     for num in range(start, finish + 1):\n",
    "#         if num % (10 ** suffix_length) == suffix:\n",
    "#             count += 1\n",
    "    \n",
    "#     return count\n",
    "\n",
    "def count_powerful_integers(start, finish, s):\n",
    "    count = 0\n",
    "    for i in range(start, finish+1):\n",
    "        if str(i).endswith(s):\n",
    "            count += 1\n",
    "            print(i, end=' ')\n",
    "    print()        \n",
    "    return count\n",
    "\n",
    "\n",
    "# Input\n",
    "# start, finish, s = input(\"Enter start, finish, and suffix (space-separated): \").split()\n",
    "start, finish, s = '1000 10000 24'.split()\n",
    "\n",
    "start, finish = int(start), int(finish)\n",
    "\n",
    "# Output\n",
    "print(count_powerful_integers(start, finish, s))\n"
   ]
  },
  {
   "cell_type": "code",
   "execution_count": 28,
   "metadata": {},
   "outputs": [
    {
     "data": {
      "text/plain": [
       "'Hello World Python Programming'"
      ]
     },
     "execution_count": 28,
     "metadata": {},
     "output_type": "execute_result"
    }
   ],
   "source": [
    "'heLLo world python programMing'.title()"
   ]
  },
  {
   "cell_type": "code",
   "execution_count": 4,
   "metadata": {},
   "outputs": [
    {
     "data": {
      "text/plain": [
       "-1"
      ]
     },
     "execution_count": 4,
     "metadata": {},
     "output_type": "execute_result"
    }
   ],
   "source": [
    "(-1 // 10)"
   ]
  }
 ],
 "metadata": {
  "kernelspec": {
   "display_name": "Python 3",
   "language": "python",
   "name": "python3"
  },
  "language_info": {
   "codemirror_mode": {
    "name": "ipython",
    "version": 3
   },
   "file_extension": ".py",
   "mimetype": "text/x-python",
   "name": "python",
   "nbconvert_exporter": "python",
   "pygments_lexer": "ipython3",
   "version": "3.12.1"
  }
 },
 "nbformat": 4,
 "nbformat_minor": 2
}
