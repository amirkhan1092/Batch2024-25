{
 "cells": [
  {
   "cell_type": "code",
   "execution_count": null,
   "metadata": {},
   "outputs": [],
   "source": [
    "st1 = 'listen' \n",
    "st2 = 'silent'\n",
    "if sorted(st1) == sorted(st2):\n",
    "    pass\n",
    "else:\n",
    "    pass\n"
   ]
  },
  {
   "cell_type": "code",
   "execution_count": null,
   "metadata": {},
   "outputs": [],
   "source": [
    "st = ['eat', 'tan', 'tea', 'ate', 'nat', 'bat']\n",
    "\n",
    "for i in range(len(st)):\n",
    "    for j in range(len(st)):\n",
    "        if i != j:\n",
    "            st[i]\n",
    "            st[j] \n"
   ]
  },
  {
   "cell_type": "code",
   "execution_count": null,
   "metadata": {},
   "outputs": [],
   "source": [
    "# Patterns \n",
    "# triangle \n",
    "'''\n",
    "1. forward triangle\n",
    "*\n",
    "**\n",
    "***\n",
    "****\n",
    "*****\n",
    "\n",
    "    *\n",
    "   **\n",
    "  ***\n",
    " ****\n",
    "*****\n",
    "'''"
   ]
  },
  {
   "cell_type": "code",
   "execution_count": null,
   "metadata": {},
   "outputs": [],
   "source": [
    "'''\n",
    "2. Backward Triangle \n",
    "****\n",
    "***\n",
    "**\n",
    "*\n",
    "\n",
    "****\n",
    " ***\n",
    "  **\n",
    "   *\n",
    "'''"
   ]
  },
  {
   "cell_type": "code",
   "execution_count": null,
   "metadata": {},
   "outputs": [],
   "source": [
    "rows = 5\n",
    "\n",
    "'''\n",
    "*\n",
    "**\n",
    "***\n",
    "****\n",
    "*****\n",
    "'''\n",
    "for i in range(1, rows+1):\n",
    "    print()"
   ]
  },
  {
   "cell_type": "code",
   "execution_count": 14,
   "metadata": {},
   "outputs": [
    {
     "name": "stdout",
     "output_type": "stream",
     "text": [
      "*\n",
      "**\n",
      "***\n",
      "****\n",
      "*****\n"
     ]
    }
   ],
   "source": [
    "# Expression (i): for all forward triangle\n",
    "rows = 5\n",
    "for i in range(1, rows+1):\n",
    "    for j in range(i):\n",
    "        print('*', end='')\n",
    "    print()"
   ]
  },
  {
   "cell_type": "code",
   "execution_count": null,
   "metadata": {},
   "outputs": [],
   "source": [
    "# Backward Triangle \n",
    "'''\n",
    "*****\n",
    "****\n",
    "***\n",
    "**\n",
    "*\n",
    "'''"
   ]
  },
  {
   "cell_type": "code",
   "execution_count": 16,
   "metadata": {},
   "outputs": [
    {
     "name": "stdout",
     "output_type": "stream",
     "text": [
      "*****\n",
      "****\n",
      "***\n",
      "**\n",
      "*\n"
     ]
    }
   ],
   "source": [
    "# Expression for backward triangle (rows-i+1)\n",
    "rows = 5\n",
    "for i in range(1, rows+1):\n",
    "    for j in range(rows-i+1):\n",
    "        print('*', end='')\n",
    "    print()"
   ]
  },
  {
   "cell_type": "code",
   "execution_count": null,
   "metadata": {},
   "outputs": [],
   "source": [
    "'''\n",
    "    *\n",
    "   **\n",
    "  ***\n",
    " ****\n",
    "*****\n",
    "'''"
   ]
  },
  {
   "cell_type": "code",
   "execution_count": 22,
   "metadata": {},
   "outputs": [
    {
     "name": "stdout",
     "output_type": "stream",
     "text": [
      "     *\n",
      "    **\n",
      "   ***\n",
      "  ****\n",
      " *****\n",
      "******\n"
     ]
    }
   ],
   "source": [
    "rows = 6\n",
    "for i in range(1, rows+1):\n",
    "    for j in range(rows-i):\n",
    "        print(' ', end='')\n",
    "    for j in range(i):\n",
    "        print('*', end='')\n",
    "    print()\n"
   ]
  },
  {
   "cell_type": "code",
   "execution_count": null,
   "metadata": {},
   "outputs": [],
   "source": [
    "'''\n",
    "     *\n",
    "    ***\n",
    "   *****\n",
    "  *******\n",
    " *********\n",
    "***********\n",
    "\n",
    "'''"
   ]
  },
  {
   "cell_type": "code",
   "execution_count": 29,
   "metadata": {},
   "outputs": [
    {
     "name": "stdout",
     "output_type": "stream",
     "text": [
      "     *\n",
      "    ***\n",
      "   *****\n",
      "  *******\n",
      " *********\n",
      "***********\n"
     ]
    }
   ],
   "source": [
    "rows = 6\n",
    "for i in range(1, rows+1):\n",
    "    for j in range(rows-i):  # \n",
    "        print(' ', end='')\n",
    "    for j in range(2*i-1): \n",
    "        print('*', end='')\n",
    "    print()"
   ]
  }
 ],
 "metadata": {
  "kernelspec": {
   "display_name": "Python 3",
   "language": "python",
   "name": "python3"
  },
  "language_info": {
   "codemirror_mode": {
    "name": "ipython",
    "version": 3
   },
   "file_extension": ".py",
   "mimetype": "text/x-python",
   "name": "python",
   "nbconvert_exporter": "python",
   "pygments_lexer": "ipython3",
   "version": "3.12.1"
  }
 },
 "nbformat": 4,
 "nbformat_minor": 2
}
