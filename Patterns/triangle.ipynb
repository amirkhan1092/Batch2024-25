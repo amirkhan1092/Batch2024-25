{
 "cells": [
  {
   "cell_type": "code",
   "execution_count": null,
   "metadata": {},
   "outputs": [],
   "source": [
    "'''\n",
    "Forward Triangle : Expression [i](1<=i<= rows)\n",
    "1.\n",
    "*\n",
    "**\n",
    "***\n",
    "****\n",
    "*****\n",
    "2.\n",
    "    *\n",
    "   **\n",
    "  ***\n",
    " ****\n",
    "*****\n",
    "'''"
   ]
  },
  {
   "cell_type": "code",
   "execution_count": null,
   "metadata": {},
   "outputs": [],
   "source": [
    "'''\n",
    "Backward Triangle Expression [rows-i+1](1<=i<= rows)\n",
    "1. \n",
    "*****\n",
    "****\n",
    "***\n",
    "**\n",
    "*\n",
    "\n",
    "2.\n",
    "*****\n",
    " ****\n",
    "  ***\n",
    "   **\n",
    "    *\n",
    "'''"
   ]
  },
  {
   "cell_type": "code",
   "execution_count": 9,
   "metadata": {},
   "outputs": [
    {
     "name": "stdout",
     "output_type": "stream",
     "text": [
      "*\n",
      "**\n",
      "***\n",
      "****\n",
      "*****\n",
      "******\n"
     ]
    }
   ],
   "source": [
    "'''\n",
    "*\n",
    "**\n",
    "***\n",
    "****\n",
    "*****\n",
    "******\n",
    "'''\n",
    "rows = 6\n",
    "for i in range(1, rows+1):\n",
    "    for j in range(i):\n",
    "        print('*', end='')   \n",
    "    print()"
   ]
  },
  {
   "cell_type": "code",
   "execution_count": 12,
   "metadata": {},
   "outputs": [
    {
     "name": "stdout",
     "output_type": "stream",
     "text": [
      "******\n",
      "*****\n",
      "****\n",
      "***\n",
      "**\n",
      "*\n"
     ]
    }
   ],
   "source": [
    "'''\n",
    "*****\n",
    "****\n",
    "***\n",
    "**\n",
    "*\n",
    "'''\n",
    "rows = 6\n",
    "for i in range(1, rows+1):\n",
    "    for j in range(rows-i+1):\n",
    "        print('*', end='')\n",
    "    print()"
   ]
  },
  {
   "cell_type": "code",
   "execution_count": 19,
   "metadata": {},
   "outputs": [
    {
     "name": "stdout",
     "output_type": "stream",
     "text": [
      "     *\n",
      "    **\n",
      "   ***\n",
      "  ****\n",
      " *****\n",
      "******\n"
     ]
    }
   ],
   "source": [
    "'''\n",
    "    * \n",
    "   **\n",
    "  ***\n",
    " ****\n",
    "*****\n",
    "'''\n",
    "rows = 6\n",
    "for i in range(1, rows+1):\n",
    "    for j in range(rows-i):\n",
    "        print(' ', end='')\n",
    "    for j in range(i):\n",
    "        print('*', end='')\n",
    "    print()"
   ]
  },
  {
   "cell_type": "code",
   "execution_count": 25,
   "metadata": {},
   "outputs": [
    {
     "name": "stdout",
     "output_type": "stream",
     "text": [
      "     *\n",
      "    ***\n",
      "   *****\n",
      "  *******\n",
      " *********\n",
      "***********\n"
     ]
    }
   ],
   "source": [
    "'''\n",
    "     *\n",
    "    ***\n",
    "   *****\n",
    "  *******\n",
    " *********\n",
    "***********\n",
    "'''\n",
    "rows = 6\n",
    "for i in range(1, rows+1):\n",
    "    for j in range(rows-i):\n",
    "        print(' ', end='')\n",
    "    for j in range(2*i-1):\n",
    "        print('*', end='')   \n",
    "    print()"
   ]
  },
  {
   "cell_type": "code",
   "execution_count": 35,
   "metadata": {},
   "outputs": [
    {
     "name": "stdout",
     "output_type": "stream",
     "text": [
      "     *\n",
      "    * *\n",
      "   *   *\n",
      "  *     *\n",
      " *       *\n",
      "***********\n"
     ]
    }
   ],
   "source": [
    "'''\n",
    "     *\n",
    "    * *\n",
    "   *   *\n",
    "  *     *\n",
    " *       *\n",
    "*         *\n",
    "'''\n",
    "\n",
    "rows = 6\n",
    "for i in range(1, rows+1):\n",
    "    for j in range(rows-i):\n",
    "        print(' ', end='')\n",
    "    for j in range(2*i-1):\n",
    "        if j == 0 or j == 2 * i - 2 or i == rows :\n",
    "            print('*', end='')     \n",
    "        else:\n",
    "            print(' ', end='')  \n",
    "    print()"
   ]
  },
  {
   "cell_type": "code",
   "execution_count": 3,
   "metadata": {},
   "outputs": [
    {
     "name": "stdout",
     "output_type": "stream",
     "text": [
      "1\n",
      "23\n",
      "4#6\n",
      "7##0\n",
      "1###5\n",
      "6####1\n",
      "2345678\n"
     ]
    }
   ],
   "source": [
    "'''\n",
    "1\n",
    "23\n",
    "4 6\n",
    "7  0\n",
    "1   5\n",
    "6    1\n",
    "2345678\n",
    "'''\n",
    "r=int(input())\n",
    "n=1\n",
    "for i in range(1,r+1):\n",
    "    for j in range (i):\n",
    "        if j == 0 or j == i-1 or i == r:\n",
    "            print(n,end='')\n",
    "        else:\n",
    "            print(' ', end='')\n",
    "        # n=(n+1)%10\n",
    "        n += 1\n",
    "        if n > 9:\n",
    "            n = 0\n",
    "    print()\n"
   ]
  }
 ],
 "metadata": {
  "kernelspec": {
   "display_name": "Python 3",
   "language": "python",
   "name": "python3"
  },
  "language_info": {
   "codemirror_mode": {
    "name": "ipython",
    "version": 3
   },
   "file_extension": ".py",
   "mimetype": "text/x-python",
   "name": "python",
   "nbconvert_exporter": "python",
   "pygments_lexer": "ipython3",
   "version": "3.12.1"
  }
 },
 "nbformat": 4,
 "nbformat_minor": 2
}
