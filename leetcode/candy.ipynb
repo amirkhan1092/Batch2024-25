{
 "cells": [
  {
   "cell_type": "markdown",
   "metadata": {},
   "source": [
    "# 135: Candy\n",
    "There are n children standing in a line. Each child is assigned a rating value given in the integer array ratings.\n",
    "\n",
    "You are giving candies to these children subjected to the following requirements:\n",
    "\n",
    "Each child must have at least one candy.\n",
    "Children with a higher rating get more candies than their neighbors.\n",
    "Return the minimum number of candies you need to have to distribute the candies to the children.\n",
    "\n",
    " \n",
    "\n",
    "Example 1:\n",
    "\n",
    "Input: ratings = [1,0,2]\n",
    "Output: 5\n",
    "Explanation: You can allocate to the first, second and third child with 2, 1, 2 candies respectively.\n",
    "Example 2:\n",
    "\n",
    "Input: ratings = [1,2,2]\n",
    "Output: 4\n",
    "Explanation: You can allocate to the first, second and third child with 1, 2, 1 candies respectively.\n",
    "The third child gets 1 candy because it satisfies the above two conditions."
   ]
  },
  {
   "cell_type": "code",
   "execution_count": 7,
   "metadata": {},
   "outputs": [
    {
     "name": "stdout",
     "output_type": "stream",
     "text": [
      "[1, 1, 1, 2]\n"
     ]
    }
   ],
   "source": [
    "lst = [1, 2, 2, 3]\n",
    "candies = [1]*len(lst)\n",
    "for i in range(len(lst)-1):\n",
    "    if i == 0 and lst[i] > lst[i+1]:\n",
    "        candies[i] += 1\n",
    "    elif lst[i-1] < lst[i] > lst[i+1]:\n",
    "         candies[i] += 1\n",
    "else:\n",
    "    if lst[i+1] > lst[i]:\n",
    "        candies[i+1]+= 1\n",
    "\n",
    "print(candies)"
   ]
  },
  {
   "cell_type": "code",
   "execution_count": 7,
   "metadata": {},
   "outputs": [
    {
     "name": "stdout",
     "output_type": "stream",
     "text": [
      "[1, 1, 1, 2, 3, 1, 1, 2, 1]\n",
      "[3, 2, 1, 1, 1, 2, 1, 2, 1]\n",
      "17\n"
     ]
    }
   ],
   "source": [
    "lst = [3, 2, 1, 2, 9, 9, 3, 10, 2]\n",
    "left2right = [1]*len(lst)\n",
    "right2left = [1]*len(lst)\n",
    "count = 1\n",
    "for i in range(len(lst)-1):\n",
    "    if lst[i] < lst[i+1]:\n",
    "        left2right[i+1] += count\n",
    "        count += 1\n",
    "    else:\n",
    "        count = 1\n",
    "count = 1        \n",
    "for i in range(len(lst)-1, 0, -1):\n",
    "    if lst[i] < lst[i-1]:\n",
    "        right2left[i-1] += count\n",
    "        count += 1\n",
    "    else:\n",
    "        count = 1\n",
    "# print(left2right)\n",
    "# print(right2left)\n",
    "s = sum(map(max, zip(left2right, right2left)))\n",
    "print(s)\n",
    "# for i in zip(left2right, right2left):\n",
    "#     s += max(i)\n"
   ]
  }
 ],
 "metadata": {
  "kernelspec": {
   "display_name": "Python 3",
   "language": "python",
   "name": "python3"
  },
  "language_info": {
   "codemirror_mode": {
    "name": "ipython",
    "version": 3
   },
   "file_extension": ".py",
   "mimetype": "text/x-python",
   "name": "python",
   "nbconvert_exporter": "python",
   "pygments_lexer": "ipython3",
   "version": "3.12.1"
  }
 },
 "nbformat": 4,
 "nbformat_minor": 2
}
