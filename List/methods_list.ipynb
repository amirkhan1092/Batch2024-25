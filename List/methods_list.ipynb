{
 "cells": [
  {
   "cell_type": "code",
   "execution_count": 2,
   "metadata": {},
   "outputs": [],
   "source": [
    "# Methods in List\n",
    "ls = [34, 5, 3]\n",
    "\n"
   ]
  },
  {
   "cell_type": "code",
   "execution_count": 9,
   "metadata": {},
   "outputs": [
    {
     "name": "stdout",
     "output_type": "stream",
     "text": [
      "[2, 5, 100, 100, 'hello', [0, 1]]\n"
     ]
    }
   ],
   "source": [
    "# Mathods in list which increase the length of the list \n",
    "# append(): add the element at the end of the list \n",
    "ls = [2, 5]\n",
    "ls.append(100)\n",
    "ls.append(100)\n",
    "ls.append('hello')\n",
    "ls.append([0, 1])\n",
    "# print(ls.append(300))\n",
    "print(ls)"
   ]
  },
  {
   "cell_type": "code",
   "execution_count": 16,
   "metadata": {},
   "outputs": [
    {
     "name": "stdout",
     "output_type": "stream",
     "text": [
      "None\n"
     ]
    }
   ],
   "source": [
    "st = [1, 3]\n",
    "print(st.append(100))"
   ]
  },
  {
   "cell_type": "code",
   "execution_count": 24,
   "metadata": {},
   "outputs": [
    {
     "name": "stdout",
     "output_type": "stream",
     "text": [
      "[1, 2, 10, 20, 30, 40, 'h', 'e', 'l', 'l', 'o', 100, 101, 102, 103, 104, 105, 106, 107, 108, 109, 110, 111, 112, 113, 114, 115, 116, 117, 118, 119]\n"
     ]
    }
   ],
   "source": [
    "# extend(): add the list of elements or new sequence to the current list \n",
    "ls = [1, 2]\n",
    "ls.extend([10, 20, 30, 40])\n",
    "ls.extend('hello')\n",
    "ls.extend(range(100, 120))\n",
    "# ls.extend(100)  # Error 'int' 100 object is not iterable\n",
    "print(ls)"
   ]
  },
  {
   "cell_type": "code",
   "execution_count": 26,
   "metadata": {},
   "outputs": [
    {
     "name": "stdout",
     "output_type": "stream",
     "text": [
      "[1, 2, 300, 4, 6]\n"
     ]
    }
   ],
   "source": [
    "# insert(index, val): insert the element at custom index in a list \n",
    "ls = [1, 2, 4, 6]\n",
    "ls.insert(2, 300)\n",
    "print(ls)"
   ]
  },
  {
   "cell_type": "code",
   "execution_count": 27,
   "metadata": {},
   "outputs": [
    {
     "name": "stdout",
     "output_type": "stream",
     "text": [
      "[1, 2, 300, 3]\n"
     ]
    }
   ],
   "source": [
    "ls = [1, 2, 3]\n",
    "ls.insert(-1, 300)\n",
    "print(ls)"
   ]
  },
  {
   "cell_type": "code",
   "execution_count": 34,
   "metadata": {},
   "outputs": [
    {
     "name": "stdout",
     "output_type": "stream",
     "text": [
      "hello\n",
      "hello\n",
      "[1, 2, 100, 'hello']\n"
     ]
    }
   ],
   "source": [
    "ls = [1, 2, 'hello']\n",
    "out1 = ls[-1]\n",
    "ls.insert(-1, 100)\n",
    "out2 = ls[-1]\n",
    "print(out1)\n",
    "print(out2)\n",
    "print(ls)\n",
    "# print(ls)"
   ]
  },
  {
   "cell_type": "code",
   "execution_count": 46,
   "metadata": {},
   "outputs": [
    {
     "name": "stdout",
     "output_type": "stream",
     "text": [
      "[2, 4, 'hello', 6]\n"
     ]
    }
   ],
   "source": [
    "#\n",
    "ls = [2, 4, 6]\n",
    "ls.insert(-1, 'hello')\n",
    "print(ls)"
   ]
  },
  {
   "cell_type": "code",
   "execution_count": 51,
   "metadata": {},
   "outputs": [
    {
     "name": "stdout",
     "output_type": "stream",
     "text": [
      "[1, 2, 4, 5, 3, 'hello']\n"
     ]
    }
   ],
   "source": [
    "# remove()/pop()/clear(): Methods in a list which decrease the length \n",
    "# remove(): remove the element by its value with first match \n",
    "ls = [1, 2, 3, 4, 5, 3, 'hello']\n",
    "val = 3\n",
    "ls.remove(val)\n",
    "print(ls)\n"
   ]
  },
  {
   "cell_type": "code",
   "execution_count": 56,
   "metadata": {},
   "outputs": [
    {
     "name": "stdout",
     "output_type": "stream",
     "text": [
      "[1, 2, 4, 5, 'hello']\n"
     ]
    }
   ],
   "source": [
    "# Remove all match values \n",
    "ls = [1, 2, 3, 4, 5, 3, 'hello', 3]\n",
    "val = 3\n",
    "ls.remove(val)\n",
    "ls.remove(val)\n",
    "ls.remove(val)\n",
    "print(ls)"
   ]
  },
  {
   "cell_type": "code",
   "execution_count": 63,
   "metadata": {},
   "outputs": [
    {
     "name": "stdout",
     "output_type": "stream",
     "text": [
      "[1, 2, 4, 3]\n"
     ]
    }
   ],
   "source": [
    "# why result is Wrong \n",
    "ls = [1, 2, 3, 4, 3, 3]\n",
    "val = 3\n",
    "for i in ls:\n",
    "    if i == val:\n",
    "        ls.remove(val)\n",
    "print(ls)"
   ]
  },
  {
   "cell_type": "code",
   "execution_count": 68,
   "metadata": {},
   "outputs": [
    {
     "name": "stdout",
     "output_type": "stream",
     "text": [
      "rinki\n",
      "['abhay', 'aditya', 'kartik']\n"
     ]
    }
   ],
   "source": [
    "# pop(): remove the custom value by index or default last and return \n",
    "ls = ['abhay', 'rinki', 'aditya', 'kartik']\n",
    "out = ls.pop(1)\n",
    "print(out)\n",
    "print(ls)\n"
   ]
  },
  {
   "cell_type": "code",
   "execution_count": 20,
   "metadata": {},
   "outputs": [
    {
     "name": "stdout",
     "output_type": "stream",
     "text": [
      "10\n"
     ]
    }
   ],
   "source": [
    "count = 0\n",
    "for i in range(4):\n",
    "    for j in range(i, 4):\n",
    "        count += 1\n",
    "print(count)\n",
    "\n",
    "\n",
    "\n",
    "\n",
    "\n",
    "\n"
   ]
  },
  {
   "cell_type": "code",
   "execution_count": 2,
   "metadata": {},
   "outputs": [
    {
     "name": "stdout",
     "output_type": "stream",
     "text": [
      "[10, 23, 'hello', (2+3j), 2.55] <class 'list'>\n"
     ]
    }
   ],
   "source": [
    "# list : Collection of object enclosed within square brackets \n",
    "ls = [10, 23, 'hello', 2+3j, 2.55]\n",
    "print(ls, type(ls))"
   ]
  },
  {
   "cell_type": "code",
   "execution_count": null,
   "metadata": {},
   "outputs": [],
   "source": [
    "marks = [12, 23, 4, 12, 22, 25, 20]\n"
   ]
  },
  {
   "cell_type": "code",
   "execution_count": 10,
   "metadata": {},
   "outputs": [
    {
     "name": "stdout",
     "output_type": "stream",
     "text": [
      "[12, 13, 100, 100, 'hello']\n"
     ]
    }
   ],
   "source": [
    "# Methods in a list\n",
    "# append()/extend()/insert()\n",
    "# append(): add the element at the end of the current list  \n",
    "lst = [12, 13]\n",
    "lst.append(100)\n",
    "lst.append(100)\n",
    "lst.append('hello')\n",
    "print(lst)\n"
   ]
  },
  {
   "cell_type": "code",
   "execution_count": 14,
   "metadata": {},
   "outputs": [
    {
     "name": "stdout",
     "output_type": "stream",
     "text": [
      "[1, 2, 4, 'h', 'e', 'l', 'l', 'o', 10, 20]\n"
     ]
    }
   ],
   "source": [
    "# Extend: add the list of elements or elements from seq at end of the list \n",
    "lst = [1, 2, 4]\n",
    "lst.extend('hello')\n",
    "# lst.extend(10)  # error \n",
    "lst.extend([10, 20])\n",
    "print(lst)"
   ]
  },
  {
   "cell_type": "code",
   "execution_count": null,
   "metadata": {},
   "outputs": [],
   "source": [
    "# insert()"
   ]
  },
  {
   "cell_type": "code",
   "execution_count": 9,
   "metadata": {},
   "outputs": [
    {
     "name": "stdout",
     "output_type": "stream",
     "text": [
      "hello\n"
     ]
    }
   ],
   "source": [
    "st = 'hello'\n",
    "st.upper()\n",
    "print(st)"
   ]
  },
  {
   "cell_type": "code",
   "execution_count": 6,
   "metadata": {},
   "outputs": [
    {
     "name": "stdout",
     "output_type": "stream",
     "text": [
      "2432902008176640000\n"
     ]
    }
   ],
   "source": [
    "num = 20\n",
    "fact = 1\n",
    "for i in range(1, num+1):\n",
    "    fact *= i\n",
    "print(fact)"
   ]
  },
  {
   "cell_type": "code",
   "execution_count": null,
   "metadata": {},
   "outputs": [],
   "source": [
    "# \n",
    "\n",
    "for i in input().split():\n",
    "    print(int(i[::-1]), end=' ')"
   ]
  },
  {
   "cell_type": "code",
   "execution_count": 4,
   "metadata": {},
   "outputs": [
    {
     "name": "stdout",
     "output_type": "stream",
     "text": [
      "Not rotation\n"
     ]
    }
   ],
   "source": [
    "st ='hello'\n",
    "r='llohe'\n",
    "c=0\n",
    "for i in range(len(r)):\n",
    "    p=''\n",
    "    p=p+st[i:]\n",
    "    p+=st[:i]\n",
    "    if p==r:\n",
    "        pass\n",
    "    else:\n",
    "        c+=1\n",
    "if c==0:\n",
    "    print(\"Yes it is a rotation\")\n",
    "else:\n",
    "    print(\"Not rotation\")\n",
    "\n"
   ]
  },
  {
   "cell_type": "code",
   "execution_count": 3,
   "metadata": {},
   "outputs": [
    {
     "name": "stdout",
     "output_type": "stream",
     "text": [
      "They are rotations\n"
     ]
    }
   ],
   "source": [
    "st = 'hello'\n",
    "st2 = 'llohe'\n",
    "if len(st)==len(st2) and st2 in (st + st):\n",
    "    print(\"They are rotations\")\n",
    "else:\n",
    "    print(\"They are not rotations\")"
   ]
  },
  {
   "cell_type": "code",
   "execution_count": 5,
   "metadata": {},
   "outputs": [
    {
     "name": "stdout",
     "output_type": "stream",
     "text": [
      "True\n"
     ]
    }
   ],
   "source": [
    "st = 'banana'\n",
    "sm = 'banana'\n",
    "ls = []\n",
    "for i in range(1, len(st)+1):\n",
    "    p = ''\n",
    "    c = st[len(st)-i:]\n",
    "    p += c\n",
    "    p += st[:len(st)-i]\n",
    "    ls.append(p)\n",
    "print(sm in ls)"
   ]
  },
  {
   "cell_type": "code",
   "execution_count": 4,
   "metadata": {},
   "outputs": [
    {
     "name": "stdout",
     "output_type": "stream",
     "text": [
      "['abhishek', 'ayush', 'zoya', 'shruti']\n"
     ]
    }
   ],
   "source": [
    "\n",
    "# Methods \n",
    "\n",
    "# remove()/pop()/clear(): Methods that decreased the length of the current list \n",
    "ls = ['abhishek', 'tanya', 'ayush', 'zoya', 'shruti']\n",
    "ls.remove('tanya')\n",
    "print(ls)"
   ]
  },
  {
   "cell_type": "code",
   "execution_count": 13,
   "metadata": {},
   "outputs": [
    {
     "name": "stdout",
     "output_type": "stream",
     "text": [
      "Before ['abhishek', 'tanya', 'ayush', 'zoya', 'shruti']\n",
      "After ['abhishek', 'tanya', 'ayush', 'zoya', 'shruti']\n"
     ]
    }
   ],
   "source": [
    "# pop() remove value by Index\n",
    "ls = ['abhishek', 'tanya', 'ayush', 'zoya', 'shruti']\n",
    "print('Before', ls)\n",
    "# ls.pop(1)\n",
    "# ls.pop()  # default index is the last index\n",
    "# ls.pop(5)   # Index error (index out of range) \n",
    "print('After', ls)\n"
   ]
  },
  {
   "cell_type": "code",
   "execution_count": 14,
   "metadata": {},
   "outputs": [
    {
     "name": "stdout",
     "output_type": "stream",
     "text": [
      "[]\n"
     ]
    }
   ],
   "source": [
    "ls = ['python']\n",
    "ls.pop()\n",
    "# ls.pop()  # Error just because of empty list \n",
    "print(ls)"
   ]
  },
  {
   "cell_type": "code",
   "execution_count": 17,
   "metadata": {},
   "outputs": [
    {
     "name": "stdout",
     "output_type": "stream",
     "text": [
      "abhishek\n",
      "Updated list ['tanya', 'ayush', 'zoya', 'shruti']\n"
     ]
    }
   ],
   "source": [
    "# pop(): also return deleted value \n",
    "ls = ['abhishek', 'tanya', 'ayush', 'zoya', 'shruti']\n",
    "out = ls.pop(0)\n",
    "print(out)\n",
    "print('Updated list', ls)\n"
   ]
  },
  {
   "cell_type": "code",
   "execution_count": 20,
   "metadata": {},
   "outputs": [
    {
     "name": "stdout",
     "output_type": "stream",
     "text": [
      "4728902464\n",
      "4728902464\n",
      "[100]\n"
     ]
    }
   ],
   "source": [
    "# clear(): remove all the elements \n",
    "ls = ['abhishek', 'tanya', 'ayush', 'zoya', 'shruti']\n",
    "print(id(ls))\n",
    "ls.clear()  # \n",
    "ls.append(100)\n",
    "print(id(ls))\n",
    "print(ls)\n"
   ]
  },
  {
   "cell_type": "code",
   "execution_count": 23,
   "metadata": {},
   "outputs": [
    {
     "name": "stdout",
     "output_type": "stream",
     "text": [
      "None\n",
      "[]\n"
     ]
    }
   ],
   "source": [
    "ls = [12, 34, 56, 78]\n",
    "print(ls.clear())  # output None\n",
    "print(ls)  # Empty "
   ]
  },
  {
   "cell_type": "code",
   "execution_count": 26,
   "metadata": {},
   "outputs": [
    {
     "name": "stdout",
     "output_type": "stream",
     "text": [
      "0\n"
     ]
    }
   ],
   "source": [
    "# Methods that return Integer Value \n",
    "# index()/count()\n",
    "ls = [1, 2, 3, 3, 2, 4]\n",
    "out = ls.count(10)\n",
    "print(out)"
   ]
  },
  {
   "cell_type": "code",
   "execution_count": 29,
   "metadata": {},
   "outputs": [
    {
     "name": "stdout",
     "output_type": "stream",
     "text": [
      "2\n"
     ]
    }
   ],
   "source": [
    "ls = [100, 'abhishek', 'tanya', 'ayush', 'zoya', 'shruti']\n",
    "out = ls.index('tanya')\n",
    "print(out)"
   ]
  },
  {
   "cell_type": "code",
   "execution_count": 34,
   "metadata": {},
   "outputs": [
    {
     "name": "stdout",
     "output_type": "stream",
     "text": [
      "['zoya', 'tanya', 'shruti', 'ayush', 'abhishek']\n"
     ]
    }
   ],
   "source": [
    "# sort()/reverse()\n",
    "ls = ['abhishek', 'tanya', 'ayush', 'zoya', 'shruti']\n",
    "ls.sort(reverse=True)\n",
    "print(ls)"
   ]
  },
  {
   "cell_type": "code",
   "execution_count": 36,
   "metadata": {},
   "outputs": [
    {
     "name": "stdout",
     "output_type": "stream",
     "text": [
      "['zoya', 'tanya', 'ayush', 'shruti', 'abhishek']\n"
     ]
    }
   ],
   "source": [
    "ls = ['abhishek', 'tanya', 'ayush', 'zoya', 'shruti']\n",
    "ls.sort(key=len)\n",
    "print(ls)"
   ]
  },
  {
   "cell_type": "code",
   "execution_count": 37,
   "metadata": {},
   "outputs": [
    {
     "name": "stdout",
     "output_type": "stream",
     "text": [
      "['shruti', 'zoya', 'ayush', 'tanya', 'abhishek']\n"
     ]
    }
   ],
   "source": [
    "# reverse(): \n",
    "ls = ['abhishek', 'tanya', 'ayush', 'zoya', 'shruti']\n",
    "ls.reverse()\n",
    "print(ls)"
   ]
  },
  {
   "cell_type": "code",
   "execution_count": 45,
   "metadata": {},
   "outputs": [
    {
     "name": "stdout",
     "output_type": "stream",
     "text": [
      "[] 4728078912\n",
      "['abhishek', 'tanya', 'ayush', 'zoya', 'shruti', [2, 4]] 4728094976\n"
     ]
    }
   ],
   "source": [
    "# Copy(): return the shallow copy of current list \n",
    "ls = ['abhishek', 'tanya', 'ayush', 'zoya', 'shruti', [2, 4]]\n",
    "ls2 = ls.copy()\n",
    "ls2.clear()\n",
    "print(ls2, id(ls2))\n",
    "print(ls, id(ls))"
   ]
  },
  {
   "cell_type": "code",
   "execution_count": 50,
   "metadata": {},
   "outputs": [
    {
     "name": "stdout",
     "output_type": "stream",
     "text": [
      "['abhishek', 'tanya', 'ayush', []]\n",
      "['abhishek', 'tanya', 'ayush']\n"
     ]
    }
   ],
   "source": [
    "ls = ['abhishek', 'tanya', 'ayush', [2, 4]]\n",
    "ls2 = ls.copy()\n",
    "\n",
    "ls[-1].append(100)\n",
    "ls2[-1].clear()\n",
    "ls.pop()\n",
    "print(ls2)\n",
    "print(ls)"
   ]
  },
  {
   "cell_type": "code",
   "execution_count": 53,
   "metadata": {},
   "outputs": [
    {
     "name": "stdout",
     "output_type": "stream",
     "text": [
      "['abhishek', 'tanya', 'ayush', [2, 4, 10]]\n"
     ]
    }
   ],
   "source": [
    "ls = ['abhishek', 'tanya', 'ayush', [2, 4]]\n",
    "ls2 = ls.copy()\n",
    "\n",
    "ls2[-1].append(10)\n",
    "\n",
    "print(ls)"
   ]
  },
  {
   "cell_type": "code",
   "execution_count": 56,
   "metadata": {},
   "outputs": [
    {
     "data": {
      "text/plain": [
       "[]"
      ]
     },
     "execution_count": 56,
     "metadata": {},
     "output_type": "execute_result"
    }
   ],
   "source": [
    "ls2[-1]"
   ]
  },
  {
   "cell_type": "code",
   "execution_count": 55,
   "metadata": {},
   "outputs": [
    {
     "name": "stdout",
     "output_type": "stream",
     "text": [
      "[0, 1, []]\n"
     ]
    }
   ],
   "source": [
    "ls3 = [0, 1]\n",
    "ls3.append(ls2[-1])\n",
    "ls3[-1].clear()\n",
    "print(ls3)"
   ]
  },
  {
   "cell_type": "code",
   "execution_count": 62,
   "metadata": {},
   "outputs": [
    {
     "name": "stdout",
     "output_type": "stream",
     "text": [
      "[1, 2, [], 1, 2, [], 1, 2, [], 1, 2, []]\n"
     ]
    }
   ],
   "source": [
    "ls = [1, 2, []] * 2\n",
    "print(ls)"
   ]
  },
  {
   "cell_type": "code",
   "execution_count": 69,
   "metadata": {},
   "outputs": [
    {
     "name": "stdout",
     "output_type": "stream",
     "text": [
      "[4, 6, 'hello', 3]\n"
     ]
    }
   ],
   "source": [
    "ls = [3, 3, 4, 6, 'hello', 3]\n",
    "target = 3\n",
    "for i in ls:\n",
    "    if i == target:\n",
    "        ls.remove(i)\n",
    "print(ls)"
   ]
  },
  {
   "cell_type": "code",
   "execution_count": 82,
   "metadata": {},
   "outputs": [
    {
     "name": "stdout",
     "output_type": "stream",
     "text": [
      "[1, 2, 4, 5]\n"
     ]
    }
   ],
   "source": [
    "ls = [1, 3, 3, 3, 3, 3, 3, 2, 3, 4, 5, 3]\n",
    "target = 3\n",
    "cc = ls.count(target)\n",
    "for i in range(cc):\n",
    "        ls.remove(3)\n",
    "print(ls)"
   ]
  },
  {
   "cell_type": "code",
   "execution_count": 75,
   "metadata": {},
   "outputs": [
    {
     "name": "stdout",
     "output_type": "stream",
     "text": [
      "h e l l o "
     ]
    }
   ],
   "source": [
    "x = 'hello'\n",
    "for i in x:\n",
    "    print(i, end=' ')\n",
    "    x = 12"
   ]
  }
 ],
 "metadata": {
  "kernelspec": {
   "display_name": "Python 3",
   "language": "python",
   "name": "python3"
  },
  "language_info": {
   "codemirror_mode": {
    "name": "ipython",
    "version": 3
   },
   "file_extension": ".py",
   "mimetype": "text/x-python",
   "name": "python",
   "nbconvert_exporter": "python",
   "pygments_lexer": "ipython3",
   "version": "3.12.1"
  }
 },
 "nbformat": 4,
 "nbformat_minor": 2
}
