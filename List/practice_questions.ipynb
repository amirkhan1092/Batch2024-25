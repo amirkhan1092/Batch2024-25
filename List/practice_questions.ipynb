{
 "cells": [
  {
   "cell_type": "code",
   "execution_count": 1,
   "metadata": {},
   "outputs": [],
   "source": [
    "# How to take list input from user \n",
    "n = eval(input())"
   ]
  },
  {
   "cell_type": "code",
   "execution_count": 3,
   "metadata": {},
   "outputs": [
    {
     "name": "stdout",
     "output_type": "stream",
     "text": [
      "lst ['23', '34', '12', '323']\n",
      "lst2 [23, 34, 12, 323]\n"
     ]
    }
   ],
   "source": [
    "st = '''\n",
    "\n",
    "23 34 12 323\n",
    "\n",
    "'''\n",
    "\n",
    "lst = input().split()  # ['23', '34', '12',  '323']\n",
    "lst2 = []\n",
    "for i in lst:\n",
    "    lst2.append(int(i))\n",
    "print('lst', lst)\n",
    "print('lst2', lst2)"
   ]
  },
  {
   "cell_type": "code",
   "execution_count": 32,
   "metadata": {},
   "outputs": [
    {
     "name": "stdout",
     "output_type": "stream",
     "text": [
      "[3, 4, 67, 100]\n"
     ]
    }
   ],
   "source": [
    "# map(): \n",
    "ls2 = list(map(int, input().split()))\n",
    "print(ls2)"
   ]
  },
  {
   "cell_type": "code",
   "execution_count": 29,
   "metadata": {},
   "outputs": [
    {
     "name": "stdout",
     "output_type": "stream",
     "text": [
      "2.0\n",
      "[4.0, 6.0, 9.0]\n"
     ]
    }
   ],
   "source": [
    "for i in ls2:\n",
    "    print(i)\n",
    "    data = list(ls2)\n",
    "    print(data)"
   ]
  },
  {
   "cell_type": "code",
   "execution_count": 7,
   "metadata": {},
   "outputs": [
    {
     "name": "stdout",
     "output_type": "stream",
     "text": [
      "\n",
      "a\n",
      "b\n",
      "ba\n",
      "c\n",
      "ca\n",
      "cb\n",
      "cba\n"
     ]
    }
   ],
   "source": [
    "st = 'abc'\n",
    "n = len(st)\n",
    "for i in range(2 ** n):\n",
    "    comb = ''\n",
    "    for j in range(n):\n",
    "        if i & (2 ** j):\n",
    "            comb += st[j]\n",
    "        else:\n",
    "            # comb += '0'\n",
    "            pass\n",
    "    print(comb[::-1])    "
   ]
  },
  {
   "cell_type": "code",
   "execution_count": null,
   "metadata": {},
   "outputs": [],
   "source": [
    "# "
   ]
  }
 ],
 "metadata": {
  "kernelspec": {
   "display_name": "Python 3",
   "language": "python",
   "name": "python3"
  },
  "language_info": {
   "codemirror_mode": {
    "name": "ipython",
    "version": 3
   },
   "file_extension": ".py",
   "mimetype": "text/x-python",
   "name": "python",
   "nbconvert_exporter": "python",
   "pygments_lexer": "ipython3",
   "version": "3.12.1"
  }
 },
 "nbformat": 4,
 "nbformat_minor": 2
}
